{
 "cells": [
  {
   "cell_type": "code",
   "execution_count": 103,
   "id": "075e975b-6de3-461d-a75b-d23c2f803482",
   "metadata": {},
   "outputs": [],
   "source": [
    "# first of all we will load the data and before that we will import all of our libraries which we will use to make our data\n",
    "## Meaningfull\n",
    "import numpy as np\n",
    "import pandas as pd \n",
    "import seaborn as sb\n",
    "import matplotlib.pyplot as plt"
   ]
  },
  {
   "cell_type": "code",
   "execution_count": 104,
   "id": "9d5ae78a-b3b2-4b94-a25b-10f48e35ded2",
   "metadata": {},
   "outputs": [],
   "source": [
    "data=pd.read_csv(r\"C:\\Users\\91967\\Desktop\\downloads\\sample_data.csv\")"
   ]
  },
  {
   "cell_type": "code",
   "execution_count": 105,
   "id": "ea0f39fb-93b1-40be-8c59-d133fba2b2ac",
   "metadata": {},
   "outputs": [
    {
     "data": {
      "text/html": [
       "<div>\n",
       "<style scoped>\n",
       "    .dataframe tbody tr th:only-of-type {\n",
       "        vertical-align: middle;\n",
       "    }\n",
       "\n",
       "    .dataframe tbody tr th {\n",
       "        vertical-align: top;\n",
       "    }\n",
       "\n",
       "    .dataframe thead th {\n",
       "        text-align: right;\n",
       "    }\n",
       "</style>\n",
       "<table border=\"1\" class=\"dataframe\">\n",
       "  <thead>\n",
       "    <tr style=\"text-align: right;\">\n",
       "      <th></th>\n",
       "      <th>Date</th>\n",
       "      <th>App</th>\n",
       "      <th>Ad Group</th>\n",
       "      <th>State</th>\n",
       "      <th>Revenue</th>\n",
       "      <th>Ad Requests</th>\n",
       "      <th>Ad Responses</th>\n",
       "      <th>Fill Rate</th>\n",
       "      <th>Impressions</th>\n",
       "      <th>Render Rate</th>\n",
       "      <th>1st Clicks</th>\n",
       "      <th>2nd Clicks</th>\n",
       "    </tr>\n",
       "  </thead>\n",
       "  <tbody>\n",
       "    <tr>\n",
       "      <th>0</th>\n",
       "      <td>08 Sep 2020</td>\n",
       "      <td>(SDK X) Cricket Mazza</td>\n",
       "      <td>Cricket Mazza Banner (AdX)</td>\n",
       "      <td>Unresolved</td>\n",
       "      <td>0.0</td>\n",
       "      <td>3932330</td>\n",
       "      <td>3926253</td>\n",
       "      <td>99.9%</td>\n",
       "      <td>3849749</td>\n",
       "      <td>98.1%</td>\n",
       "      <td>10199</td>\n",
       "      <td>0</td>\n",
       "    </tr>\n",
       "    <tr>\n",
       "      <th>1</th>\n",
       "      <td>08 Sep 2020</td>\n",
       "      <td>(SDK X) Cricket Mazza</td>\n",
       "      <td>320x50</td>\n",
       "      <td>Unresolved</td>\n",
       "      <td>0.0</td>\n",
       "      <td>3932330</td>\n",
       "      <td>119</td>\n",
       "      <td>99.9%</td>\n",
       "      <td>118</td>\n",
       "      <td>99.2%</td>\n",
       "      <td>2</td>\n",
       "      <td>2</td>\n",
       "    </tr>\n",
       "    <tr>\n",
       "      <th>2</th>\n",
       "      <td>08 Sep 2020</td>\n",
       "      <td>(SDK X) Cricket Mazza</td>\n",
       "      <td>Dream11_320x50</td>\n",
       "      <td>Unresolved</td>\n",
       "      <td>0.0</td>\n",
       "      <td>3932330</td>\n",
       "      <td>96</td>\n",
       "      <td>99.9%</td>\n",
       "      <td>93</td>\n",
       "      <td>96.9%</td>\n",
       "      <td>2</td>\n",
       "      <td>2</td>\n",
       "    </tr>\n",
       "    <tr>\n",
       "      <th>3</th>\n",
       "      <td>08 Sep 2020</td>\n",
       "      <td>(SDK X) Cricket Mazza</td>\n",
       "      <td>My11_320x50</td>\n",
       "      <td>Unresolved</td>\n",
       "      <td>0.0</td>\n",
       "      <td>3932330</td>\n",
       "      <td>111</td>\n",
       "      <td>99.9%</td>\n",
       "      <td>110</td>\n",
       "      <td>99.1%</td>\n",
       "      <td>2</td>\n",
       "      <td>2</td>\n",
       "    </tr>\n",
       "    <tr>\n",
       "      <th>4</th>\n",
       "      <td>06 Sep 2020</td>\n",
       "      <td>(SDK X) Cricket Mazza</td>\n",
       "      <td>Cricket Mazza Banner (AdX)</td>\n",
       "      <td>Unresolved</td>\n",
       "      <td>0.0</td>\n",
       "      <td>3839002</td>\n",
       "      <td>3834328</td>\n",
       "      <td>99.9%</td>\n",
       "      <td>3785127</td>\n",
       "      <td>98.7%</td>\n",
       "      <td>9492</td>\n",
       "      <td>0</td>\n",
       "    </tr>\n",
       "    <tr>\n",
       "      <th>...</th>\n",
       "      <td>...</td>\n",
       "      <td>...</td>\n",
       "      <td>...</td>\n",
       "      <td>...</td>\n",
       "      <td>...</td>\n",
       "      <td>...</td>\n",
       "      <td>...</td>\n",
       "      <td>...</td>\n",
       "      <td>...</td>\n",
       "      <td>...</td>\n",
       "      <td>...</td>\n",
       "      <td>...</td>\n",
       "    </tr>\n",
       "    <tr>\n",
       "      <th>48288</th>\n",
       "      <td>10 Sep 2020</td>\n",
       "      <td>NaN</td>\n",
       "      <td>revshare</td>\n",
       "      <td>Unresolved</td>\n",
       "      <td>0.0</td>\n",
       "      <td>0</td>\n",
       "      <td>0</td>\n",
       "      <td>0.00%</td>\n",
       "      <td>0</td>\n",
       "      <td>0.00%</td>\n",
       "      <td>0</td>\n",
       "      <td>0</td>\n",
       "    </tr>\n",
       "    <tr>\n",
       "      <th>48289</th>\n",
       "      <td>10 Sep 2020</td>\n",
       "      <td>SDK X Native Sample</td>\n",
       "      <td>SDK X Test Ads</td>\n",
       "      <td>Haryana</td>\n",
       "      <td>0.0</td>\n",
       "      <td>0</td>\n",
       "      <td>0</td>\n",
       "      <td>0.00%</td>\n",
       "      <td>0</td>\n",
       "      <td>0.00%</td>\n",
       "      <td>0</td>\n",
       "      <td>0</td>\n",
       "    </tr>\n",
       "    <tr>\n",
       "      <th>48290</th>\n",
       "      <td>12 Sep 2020</td>\n",
       "      <td>NaN</td>\n",
       "      <td>IPL banner</td>\n",
       "      <td>Maharashtra</td>\n",
       "      <td>0.0</td>\n",
       "      <td>0</td>\n",
       "      <td>0</td>\n",
       "      <td>0.00%</td>\n",
       "      <td>0</td>\n",
       "      <td>0.00%</td>\n",
       "      <td>0</td>\n",
       "      <td>0</td>\n",
       "    </tr>\n",
       "    <tr>\n",
       "      <th>48291</th>\n",
       "      <td>12 Sep 2020</td>\n",
       "      <td>NaN</td>\n",
       "      <td>RC_MH_Stock_Marathi</td>\n",
       "      <td>Maharashtra</td>\n",
       "      <td>0.0</td>\n",
       "      <td>0</td>\n",
       "      <td>0</td>\n",
       "      <td>0.00%</td>\n",
       "      <td>0</td>\n",
       "      <td>0.00%</td>\n",
       "      <td>0</td>\n",
       "      <td>0</td>\n",
       "    </tr>\n",
       "    <tr>\n",
       "      <th>48292</th>\n",
       "      <td>12 Sep 2020</td>\n",
       "      <td>NaN</td>\n",
       "      <td>revshare</td>\n",
       "      <td>Unresolved</td>\n",
       "      <td>0.0</td>\n",
       "      <td>0</td>\n",
       "      <td>0</td>\n",
       "      <td>0.00%</td>\n",
       "      <td>0</td>\n",
       "      <td>0.00%</td>\n",
       "      <td>0</td>\n",
       "      <td>0</td>\n",
       "    </tr>\n",
       "  </tbody>\n",
       "</table>\n",
       "<p>48293 rows × 12 columns</p>\n",
       "</div>"
      ],
      "text/plain": [
       "              Date                     App                    Ad Group  \\\n",
       "0      08 Sep 2020  (SDK X) Cricket Mazza   Cricket Mazza Banner (AdX)   \n",
       "1      08 Sep 2020  (SDK X) Cricket Mazza                       320x50   \n",
       "2      08 Sep 2020  (SDK X) Cricket Mazza               Dream11_320x50   \n",
       "3      08 Sep 2020  (SDK X) Cricket Mazza                  My11_320x50   \n",
       "4      06 Sep 2020  (SDK X) Cricket Mazza   Cricket Mazza Banner (AdX)   \n",
       "...            ...                     ...                         ...   \n",
       "48288  10 Sep 2020                     NaN                    revshare   \n",
       "48289  10 Sep 2020     SDK X Native Sample              SDK X Test Ads   \n",
       "48290  12 Sep 2020                     NaN                  IPL banner   \n",
       "48291  12 Sep 2020                     NaN         RC_MH_Stock_Marathi   \n",
       "48292  12 Sep 2020                     NaN                    revshare   \n",
       "\n",
       "             State  Revenue  Ad Requests  Ad Responses Fill Rate  Impressions  \\\n",
       "0       Unresolved      0.0      3932330       3926253     99.9%      3849749   \n",
       "1       Unresolved      0.0      3932330           119     99.9%          118   \n",
       "2       Unresolved      0.0      3932330            96     99.9%           93   \n",
       "3       Unresolved      0.0      3932330           111     99.9%          110   \n",
       "4       Unresolved      0.0      3839002       3834328     99.9%      3785127   \n",
       "...            ...      ...          ...           ...       ...          ...   \n",
       "48288   Unresolved      0.0            0             0     0.00%            0   \n",
       "48289      Haryana      0.0            0             0     0.00%            0   \n",
       "48290  Maharashtra      0.0            0             0     0.00%            0   \n",
       "48291  Maharashtra      0.0            0             0     0.00%            0   \n",
       "48292   Unresolved      0.0            0             0     0.00%            0   \n",
       "\n",
       "      Render Rate  1st Clicks  2nd Clicks  \n",
       "0           98.1%       10199           0  \n",
       "1           99.2%           2           2  \n",
       "2           96.9%           2           2  \n",
       "3           99.1%           2           2  \n",
       "4           98.7%        9492           0  \n",
       "...           ...         ...         ...  \n",
       "48288       0.00%           0           0  \n",
       "48289       0.00%           0           0  \n",
       "48290       0.00%           0           0  \n",
       "48291       0.00%           0           0  \n",
       "48292       0.00%           0           0  \n",
       "\n",
       "[48293 rows x 12 columns]"
      ]
     },
     "execution_count": 105,
     "metadata": {},
     "output_type": "execute_result"
    }
   ],
   "source": [
    "data"
   ]
  },
  {
   "cell_type": "code",
   "execution_count": 5,
   "id": "7e330f13-8a35-48c3-b354-a8dbbf65cab2",
   "metadata": {},
   "outputs": [
    {
     "data": {
      "text/html": [
       "<div>\n",
       "<style scoped>\n",
       "    .dataframe tbody tr th:only-of-type {\n",
       "        vertical-align: middle;\n",
       "    }\n",
       "\n",
       "    .dataframe tbody tr th {\n",
       "        vertical-align: top;\n",
       "    }\n",
       "\n",
       "    .dataframe thead th {\n",
       "        text-align: right;\n",
       "    }\n",
       "</style>\n",
       "<table border=\"1\" class=\"dataframe\">\n",
       "  <thead>\n",
       "    <tr style=\"text-align: right;\">\n",
       "      <th></th>\n",
       "      <th>Date</th>\n",
       "      <th>App</th>\n",
       "      <th>Ad Group</th>\n",
       "      <th>State</th>\n",
       "      <th>Revenue</th>\n",
       "      <th>Ad Requests</th>\n",
       "      <th>Ad Responses</th>\n",
       "      <th>Fill Rate</th>\n",
       "      <th>Impressions</th>\n",
       "      <th>Render Rate</th>\n",
       "      <th>1st Clicks</th>\n",
       "      <th>2nd Clicks</th>\n",
       "    </tr>\n",
       "  </thead>\n",
       "  <tbody>\n",
       "    <tr>\n",
       "      <th>0</th>\n",
       "      <td>08 Sep 2020</td>\n",
       "      <td>(SDK X) Cricket Mazza</td>\n",
       "      <td>Cricket Mazza Banner (AdX)</td>\n",
       "      <td>Unresolved</td>\n",
       "      <td>0.0</td>\n",
       "      <td>3932330</td>\n",
       "      <td>3926253</td>\n",
       "      <td>99.9%</td>\n",
       "      <td>3849749</td>\n",
       "      <td>98.1%</td>\n",
       "      <td>10199</td>\n",
       "      <td>0</td>\n",
       "    </tr>\n",
       "    <tr>\n",
       "      <th>1</th>\n",
       "      <td>08 Sep 2020</td>\n",
       "      <td>(SDK X) Cricket Mazza</td>\n",
       "      <td>320x50</td>\n",
       "      <td>Unresolved</td>\n",
       "      <td>0.0</td>\n",
       "      <td>3932330</td>\n",
       "      <td>119</td>\n",
       "      <td>99.9%</td>\n",
       "      <td>118</td>\n",
       "      <td>99.2%</td>\n",
       "      <td>2</td>\n",
       "      <td>2</td>\n",
       "    </tr>\n",
       "    <tr>\n",
       "      <th>2</th>\n",
       "      <td>08 Sep 2020</td>\n",
       "      <td>(SDK X) Cricket Mazza</td>\n",
       "      <td>Dream11_320x50</td>\n",
       "      <td>Unresolved</td>\n",
       "      <td>0.0</td>\n",
       "      <td>3932330</td>\n",
       "      <td>96</td>\n",
       "      <td>99.9%</td>\n",
       "      <td>93</td>\n",
       "      <td>96.9%</td>\n",
       "      <td>2</td>\n",
       "      <td>2</td>\n",
       "    </tr>\n",
       "    <tr>\n",
       "      <th>3</th>\n",
       "      <td>08 Sep 2020</td>\n",
       "      <td>(SDK X) Cricket Mazza</td>\n",
       "      <td>My11_320x50</td>\n",
       "      <td>Unresolved</td>\n",
       "      <td>0.0</td>\n",
       "      <td>3932330</td>\n",
       "      <td>111</td>\n",
       "      <td>99.9%</td>\n",
       "      <td>110</td>\n",
       "      <td>99.1%</td>\n",
       "      <td>2</td>\n",
       "      <td>2</td>\n",
       "    </tr>\n",
       "    <tr>\n",
       "      <th>4</th>\n",
       "      <td>06 Sep 2020</td>\n",
       "      <td>(SDK X) Cricket Mazza</td>\n",
       "      <td>Cricket Mazza Banner (AdX)</td>\n",
       "      <td>Unresolved</td>\n",
       "      <td>0.0</td>\n",
       "      <td>3839002</td>\n",
       "      <td>3834328</td>\n",
       "      <td>99.9%</td>\n",
       "      <td>3785127</td>\n",
       "      <td>98.7%</td>\n",
       "      <td>9492</td>\n",
       "      <td>0</td>\n",
       "    </tr>\n",
       "  </tbody>\n",
       "</table>\n",
       "</div>"
      ],
      "text/plain": [
       "          Date                     App                    Ad Group  \\\n",
       "0  08 Sep 2020  (SDK X) Cricket Mazza   Cricket Mazza Banner (AdX)   \n",
       "1  08 Sep 2020  (SDK X) Cricket Mazza                       320x50   \n",
       "2  08 Sep 2020  (SDK X) Cricket Mazza               Dream11_320x50   \n",
       "3  08 Sep 2020  (SDK X) Cricket Mazza                  My11_320x50   \n",
       "4  06 Sep 2020  (SDK X) Cricket Mazza   Cricket Mazza Banner (AdX)   \n",
       "\n",
       "        State  Revenue  Ad Requests  Ad Responses Fill Rate  Impressions  \\\n",
       "0  Unresolved      0.0      3932330       3926253     99.9%      3849749   \n",
       "1  Unresolved      0.0      3932330           119     99.9%          118   \n",
       "2  Unresolved      0.0      3932330            96     99.9%           93   \n",
       "3  Unresolved      0.0      3932330           111     99.9%          110   \n",
       "4  Unresolved      0.0      3839002       3834328     99.9%      3785127   \n",
       "\n",
       "  Render Rate  1st Clicks  2nd Clicks  \n",
       "0       98.1%       10199           0  \n",
       "1       99.2%           2           2  \n",
       "2       96.9%           2           2  \n",
       "3       99.1%           2           2  \n",
       "4       98.7%        9492           0  "
      ]
     },
     "execution_count": 5,
     "metadata": {},
     "output_type": "execute_result"
    }
   ],
   "source": [
    "data.head()"
   ]
  },
  {
   "cell_type": "code",
   "execution_count": 6,
   "id": "3bf7d5c8-b3f5-4257-b01f-46195046a03c",
   "metadata": {},
   "outputs": [
    {
     "data": {
      "text/plain": [
       "(48293, 12)"
      ]
     },
     "execution_count": 6,
     "metadata": {},
     "output_type": "execute_result"
    }
   ],
   "source": [
    "#now we have to understand the data and the relations between our data variables to find the desired result.\n",
    "data.shape"
   ]
  },
  {
   "cell_type": "code",
   "execution_count": 7,
   "id": "4e7cd12e-49b6-4888-968d-ec8f1c503dd3",
   "metadata": {},
   "outputs": [
    {
     "name": "stdout",
     "output_type": "stream",
     "text": [
      "<class 'pandas.core.frame.DataFrame'>\n",
      "RangeIndex: 48293 entries, 0 to 48292\n",
      "Data columns (total 12 columns):\n",
      " #   Column        Non-Null Count  Dtype  \n",
      "---  ------        --------------  -----  \n",
      " 0   Date          48293 non-null  object \n",
      " 1   App           48270 non-null  object \n",
      " 2   Ad Group      44300 non-null  object \n",
      " 3   State         48293 non-null  object \n",
      " 4   Revenue       48293 non-null  float64\n",
      " 5   Ad Requests   48293 non-null  int64  \n",
      " 6   Ad Responses  48293 non-null  int64  \n",
      " 7   Fill Rate     48293 non-null  object \n",
      " 8   Impressions   48293 non-null  int64  \n",
      " 9   Render Rate   48293 non-null  object \n",
      " 10  1st Clicks    48293 non-null  int64  \n",
      " 11  2nd Clicks    48293 non-null  int64  \n",
      "dtypes: float64(1), int64(5), object(6)\n",
      "memory usage: 4.4+ MB\n"
     ]
    }
   ],
   "source": [
    "data.info()"
   ]
  },
  {
   "cell_type": "code",
   "execution_count": 8,
   "id": "77b503c6-fc25-4c82-9c5f-2e85ab766672",
   "metadata": {},
   "outputs": [
    {
     "data": {
      "text/html": [
       "<div>\n",
       "<style scoped>\n",
       "    .dataframe tbody tr th:only-of-type {\n",
       "        vertical-align: middle;\n",
       "    }\n",
       "\n",
       "    .dataframe tbody tr th {\n",
       "        vertical-align: top;\n",
       "    }\n",
       "\n",
       "    .dataframe thead th {\n",
       "        text-align: right;\n",
       "    }\n",
       "</style>\n",
       "<table border=\"1\" class=\"dataframe\">\n",
       "  <thead>\n",
       "    <tr style=\"text-align: right;\">\n",
       "      <th></th>\n",
       "      <th>Revenue</th>\n",
       "      <th>Ad Requests</th>\n",
       "      <th>Ad Responses</th>\n",
       "      <th>Impressions</th>\n",
       "      <th>1st Clicks</th>\n",
       "      <th>2nd Clicks</th>\n",
       "    </tr>\n",
       "  </thead>\n",
       "  <tbody>\n",
       "    <tr>\n",
       "      <th>count</th>\n",
       "      <td>48293.000000</td>\n",
       "      <td>4.829300e+04</td>\n",
       "      <td>4.829300e+04</td>\n",
       "      <td>4.829300e+04</td>\n",
       "      <td>48293.000000</td>\n",
       "      <td>48293.000000</td>\n",
       "    </tr>\n",
       "    <tr>\n",
       "      <th>mean</th>\n",
       "      <td>0.071920</td>\n",
       "      <td>7.654292e+04</td>\n",
       "      <td>4.921321e+03</td>\n",
       "      <td>4.319299e+03</td>\n",
       "      <td>112.089040</td>\n",
       "      <td>30.091587</td>\n",
       "    </tr>\n",
       "    <tr>\n",
       "      <th>std</th>\n",
       "      <td>0.728748</td>\n",
       "      <td>3.437863e+05</td>\n",
       "      <td>5.591575e+04</td>\n",
       "      <td>5.244563e+04</td>\n",
       "      <td>695.681842</td>\n",
       "      <td>185.729236</td>\n",
       "    </tr>\n",
       "    <tr>\n",
       "      <th>min</th>\n",
       "      <td>0.000000</td>\n",
       "      <td>0.000000e+00</td>\n",
       "      <td>0.000000e+00</td>\n",
       "      <td>0.000000e+00</td>\n",
       "      <td>0.000000</td>\n",
       "      <td>0.000000</td>\n",
       "    </tr>\n",
       "    <tr>\n",
       "      <th>25%</th>\n",
       "      <td>0.000000</td>\n",
       "      <td>3.100000e+01</td>\n",
       "      <td>2.000000e+00</td>\n",
       "      <td>1.000000e+00</td>\n",
       "      <td>0.000000</td>\n",
       "      <td>0.000000</td>\n",
       "    </tr>\n",
       "    <tr>\n",
       "      <th>50%</th>\n",
       "      <td>0.000000</td>\n",
       "      <td>3.340000e+02</td>\n",
       "      <td>1.500000e+01</td>\n",
       "      <td>8.000000e+00</td>\n",
       "      <td>0.000000</td>\n",
       "      <td>0.000000</td>\n",
       "    </tr>\n",
       "    <tr>\n",
       "      <th>75%</th>\n",
       "      <td>0.000000</td>\n",
       "      <td>6.170000e+03</td>\n",
       "      <td>1.780000e+02</td>\n",
       "      <td>1.030000e+02</td>\n",
       "      <td>5.000000</td>\n",
       "      <td>2.000000</td>\n",
       "    </tr>\n",
       "    <tr>\n",
       "      <th>max</th>\n",
       "      <td>42.390000</td>\n",
       "      <td>3.932330e+06</td>\n",
       "      <td>3.926253e+06</td>\n",
       "      <td>3.849749e+06</td>\n",
       "      <td>25141.000000</td>\n",
       "      <td>6323.000000</td>\n",
       "    </tr>\n",
       "  </tbody>\n",
       "</table>\n",
       "</div>"
      ],
      "text/plain": [
       "            Revenue   Ad Requests  Ad Responses   Impressions    1st Clicks  \\\n",
       "count  48293.000000  4.829300e+04  4.829300e+04  4.829300e+04  48293.000000   \n",
       "mean       0.071920  7.654292e+04  4.921321e+03  4.319299e+03    112.089040   \n",
       "std        0.728748  3.437863e+05  5.591575e+04  5.244563e+04    695.681842   \n",
       "min        0.000000  0.000000e+00  0.000000e+00  0.000000e+00      0.000000   \n",
       "25%        0.000000  3.100000e+01  2.000000e+00  1.000000e+00      0.000000   \n",
       "50%        0.000000  3.340000e+02  1.500000e+01  8.000000e+00      0.000000   \n",
       "75%        0.000000  6.170000e+03  1.780000e+02  1.030000e+02      5.000000   \n",
       "max       42.390000  3.932330e+06  3.926253e+06  3.849749e+06  25141.000000   \n",
       "\n",
       "         2nd Clicks  \n",
       "count  48293.000000  \n",
       "mean      30.091587  \n",
       "std      185.729236  \n",
       "min        0.000000  \n",
       "25%        0.000000  \n",
       "50%        0.000000  \n",
       "75%        2.000000  \n",
       "max     6323.000000  "
      ]
     },
     "execution_count": 8,
     "metadata": {},
     "output_type": "execute_result"
    }
   ],
   "source": [
    "data.describe()"
   ]
  },
  {
   "cell_type": "code",
   "execution_count": 9,
   "id": "e940ef42-0ecf-4513-8fba-fde67ffdf149",
   "metadata": {},
   "outputs": [
    {
     "data": {
      "text/plain": [
       "Index(['Date', 'App', 'Ad Group', 'State', 'Revenue', 'Ad Requests',\n",
       "       'Ad Responses', 'Fill Rate', 'Impressions', 'Render Rate', '1st Clicks',\n",
       "       '2nd Clicks'],\n",
       "      dtype='object')"
      ]
     },
     "execution_count": 9,
     "metadata": {},
     "output_type": "execute_result"
    }
   ],
   "source": [
    "data.columns"
   ]
  },
  {
   "cell_type": "code",
   "execution_count": 10,
   "id": "88fa855e-d947-4224-8be2-1d4ede6693cc",
   "metadata": {},
   "outputs": [
    {
     "data": {
      "text/plain": [
       "Date               0\n",
       "App               23\n",
       "Ad Group        3993\n",
       "State              0\n",
       "Revenue            0\n",
       "Ad Requests        0\n",
       "Ad Responses       0\n",
       "Fill Rate          0\n",
       "Impressions        0\n",
       "Render Rate        0\n",
       "1st Clicks         0\n",
       "2nd Clicks         0\n",
       "dtype: int64"
      ]
     },
     "execution_count": 10,
     "metadata": {},
     "output_type": "execute_result"
    }
   ],
   "source": [
    "data.isnull().sum()"
   ]
  },
  {
   "cell_type": "code",
   "execution_count": 11,
   "id": "fb82ac5e-6dff-449a-b749-e7225ce86cb0",
   "metadata": {},
   "outputs": [
    {
     "data": {
      "text/plain": [
       "Callbreak Multiplayer             3776\n",
       "World Cricket Championship 2      3270\n",
       "Bottle Shooting Game              2320\n",
       "World Cricket Championship  Lt    1859\n",
       "Indian Rummy Offline              1614\n",
       "                                  ... \n",
       "Sports Bikes Racing Show             1\n",
       "OCR Barcod Scanner                   1\n",
       "Motu Patlu Epic Match                1\n",
       "Blackboard Edutech                   1\n",
       "TurboRacing                          1\n",
       "Name: App, Length: 242, dtype: int64"
      ]
     },
     "execution_count": 11,
     "metadata": {},
     "output_type": "execute_result"
    }
   ],
   "source": [
    "#As we are able to see that our data contain null values so now we will decide what we have to do with these null values .\n",
    "data[\"App\"].value_counts()"
   ]
  },
  {
   "cell_type": "code",
   "execution_count": 12,
   "id": "e5ba54c0-e84c-485d-b85c-cfaa9a97aeca",
   "metadata": {},
   "outputs": [
    {
     "data": {
      "text/plain": [
       "242"
      ]
     },
     "execution_count": 12,
     "metadata": {},
     "output_type": "execute_result"
    }
   ],
   "source": [
    "data[\"App\"].nunique()\n",
    "#nunique tells us the number of unique value that a column contains."
   ]
  },
  {
   "cell_type": "code",
   "execution_count": 13,
   "id": "5a4ee7ec-8307-431f-bb57-e5ee9cd1bd82",
   "metadata": {},
   "outputs": [],
   "source": [
    "#As we are able to see that 23 out of 48293 is very short amount . So we can drop these null values from \"App\" column."
   ]
  },
  {
   "cell_type": "code",
   "execution_count": 14,
   "id": "6cb9d595-fc03-4066-9b0a-081716310323",
   "metadata": {},
   "outputs": [
    {
     "data": {
      "text/plain": [
       "Index(['Date', 'App', 'Ad Group', 'State', 'Revenue', 'Ad Requests',\n",
       "       'Ad Responses', 'Fill Rate', 'Impressions', 'Render Rate', '1st Clicks',\n",
       "       '2nd Clicks'],\n",
       "      dtype='object')"
      ]
     },
     "execution_count": 14,
     "metadata": {},
     "output_type": "execute_result"
    }
   ],
   "source": [
    "data.columns"
   ]
  },
  {
   "cell_type": "code",
   "execution_count": 15,
   "id": "25210b0f-2a29-4173-baec-58480764eae4",
   "metadata": {},
   "outputs": [],
   "source": [
    "data.dropna(subset=[\"App\"],how=\"all\",inplace=True)"
   ]
  },
  {
   "cell_type": "markdown",
   "id": "7e68883e-1224-4bc9-89a5-228a1f24ddd7",
   "metadata": {},
   "source": [
    "As we are able to see that earlier our data dimensions are 48293 and 12 columns.\n",
    "Now we have deleted those rows from \"App\" column which are having null values and now we have seen that new dimesnion \n",
    " of our data is 48270 *12 columns means only 23 rows are deleted from the data."
   ]
  },
  {
   "cell_type": "markdown",
   "id": "435985e7-054d-46ab-88d5-3c7f1974a0c0",
   "metadata": {},
   "source": [
    "Now we will focus on another column which contains nuull values and i.e. \"Ad Group\""
   ]
  },
  {
   "cell_type": "code",
   "execution_count": 16,
   "id": "e3bc7580-16ae-4f65-b982-968d8f75fd62",
   "metadata": {},
   "outputs": [
    {
     "data": {
      "text/plain": [
       "(48270, 12)"
      ]
     },
     "execution_count": 16,
     "metadata": {},
     "output_type": "execute_result"
    }
   ],
   "source": [
    "data.shape"
   ]
  },
  {
   "cell_type": "code",
   "execution_count": 17,
   "id": "3250f379-69bc-4a36-8fe0-7d09339f1692",
   "metadata": {},
   "outputs": [
    {
     "data": {
      "text/plain": [
       "Index(['Date', 'App', 'Ad Group', 'State', 'Revenue', 'Ad Requests',\n",
       "       'Ad Responses', 'Fill Rate', 'Impressions', 'Render Rate', '1st Clicks',\n",
       "       '2nd Clicks'],\n",
       "      dtype='object')"
      ]
     },
     "execution_count": 17,
     "metadata": {},
     "output_type": "execute_result"
    }
   ],
   "source": [
    "data.columns"
   ]
  },
  {
   "cell_type": "code",
   "execution_count": 18,
   "id": "20e53bdd-78b2-4de5-bfa5-ea4a07bbcea2",
   "metadata": {},
   "outputs": [
    {
     "data": {
      "text/plain": [
       "3993"
      ]
     },
     "execution_count": 18,
     "metadata": {},
     "output_type": "execute_result"
    }
   ],
   "source": [
    "data[\"Ad Group\"].isnull().sum()"
   ]
  },
  {
   "cell_type": "code",
   "execution_count": 19,
   "id": "7e8b16c3-cbf6-45bb-98f7-42cb278265cb",
   "metadata": {},
   "outputs": [
    {
     "data": {
      "text/plain": [
       "revshare                                      6123\n",
       "Dhani Backfill                                3538\n",
       "Rooter_All apps                               3180\n",
       "MY11Circle_IN_SG_1500                         1560\n",
       "IPL banner                                    1543\n",
       "                                              ... \n",
       "Sachin Saga_Admob_GG                             1\n",
       "QA SDK X Sample Build_Debug_Test AdGroup 2       1\n",
       "OCR Barcod Scanner_Admob                         1\n",
       "Blackboard Edutech_Admob                         1\n",
       "Sachin Saga_Admob_iOS                            1\n",
       "Name: Ad Group, Length: 188, dtype: int64"
      ]
     },
     "execution_count": 19,
     "metadata": {},
     "output_type": "execute_result"
    }
   ],
   "source": [
    "data[\"Ad Group\"].value_counts()"
   ]
  },
  {
   "cell_type": "code",
   "execution_count": 20,
   "id": "b0a20b9c-3e96-46a3-b527-df9a72076e19",
   "metadata": {},
   "outputs": [
    {
     "data": {
      "text/plain": [
       "array(['Cricket Mazza Banner (AdX)', '320x50', 'Dream11_320x50',\n",
       "       'My11_320x50', 'Rummy77', 'New creative', 'creative_aug',\n",
       "       'Nov New', 'revshare', 'Rooter_Callbreak',\n",
       "       'Callbreak Multiplayer2_Inmobi_No Floor', 'Dream11_NonCore',\n",
       "       'MY11Circle_IN_SG_1500', 'IPL banner', 'RC_MH_Stock_Marathi',\n",
       "       'RC_MH_English', 'non stop fun', 'Logo without name',\n",
       "       'logo with name', 'RC_TN_ENG', 'Satishsolo_Tamil',\n",
       "       'Satishsolo_Eng', 'Danish&satish', 'DanishSolo_English',\n",
       "       'Danishsolo_Kan', 'Gujrati_GL', 'Dhani Backfill',\n",
       "       'Callbreak Multiplayer2_Admob_L', '11wickets_CPR', 'Quirky_Eng',\n",
       "       'Ajusolo_Eng', 'Ajusolo_Mal', 'RC_GJ_Stock', 'Rooter_All apps',\n",
       "       'RC_KA_Stock_English', 'Malayalm_KL', 'quirky_Eng',\n",
       "       'RC_KL_Stock_ENG', 'SDK X Test Ads',\n",
       "       'Bottle Shooting Game_Inmobi_H', 'Rooter_NonCricket', 'Dream11',\n",
       "       'RC_TN_Stock_Tamil', 'Bottle Shooting Game_Admob_No Floor',\n",
       "       'Bottle Shooting Game_Admob_ML', 'WCC2_Admob_Excluding India',\n",
       "       'WCC2_Admob_GG_0.50', 'WCC2_Inmobi_H', 'WCC2_Inmobi_L',\n",
       "       'Rooter_Cricket', 'Other games', 'Mindi Offline_Inmobi',\n",
       "       'Traffic bangalore_Admob_New Banner',\n",
       "       'Traffic bangalore_Admob_New Banner (backfill)',\n",
       "       'Odia Calendar MCM', 'Odia Calendar_banner',\n",
       "       'Odia Calendar_native', 'Farm Frenzy_Admob_GG_No Floor',\n",
       "       'Farm Frenzy_Inmobi_H', 'Farm Frenzy_FAN', 'SDK X Test Ads 2',\n",
       "       'Bus Simulator Indonesia_Admob_GG_no floor',\n",
       "       'Bus Simulator Indonesia_Inmobi', 'Live Talk_Admob_MCM',\n",
       "       'Live Talk_GG_AdX', 'Indian Rummy Offline_Admob',\n",
       "       'Sticker Maker Admob Banner', 'sticker Maker (a/b) experiment',\n",
       "       'Sticker Maker Admob Native', 'A/b experiment backfill',\n",
       "       'WCC1_Inmobi_H', 'WCC1_Admob', 'other games',\n",
       "       'Skymet Weather_Admob', 'Shiva Winter Biking Tales_Admob',\n",
       "       'Shiva Winter Biking Tales_Inmobi_L', '354.857', '355.858',\n",
       "       'Shiva Cycling Adventure_Admob',\n",
       "       'Shiva Cycling Adventure_Inmobi_L', 'Indian Rummy Offline_Inmobi',\n",
       "       '4719_talk Now - Native - Admob - Lobby Native',\n",
       "       '4718_talk Now - Native - Admob - Native Chat History',\n",
       "       'Test Ads (interstitial) SDK X',\n",
       "       'City Car Racing Simulator_Inmobi_L',\n",
       "       'City Car Racing Simulator_Admob',\n",
       "       'Bangla Panjika - Banner - Admob', nan,\n",
       "       'Motu Patlu Car Game_Admob', 'Motu Patlu Car Game_Inmobi_L',\n",
       "       'Mr. Detective_Admob', 'Mr. Detective_Inmobi_L',\n",
       "       'Shiva Archery_Admob', 'Shiva Archery_Inmobi_L',\n",
       "       '4700_Tarot Card_AdMob_Banner', 'Demolition Derby 2_Inmobi_L',\n",
       "       'Demolition Derby 2_GG_AdX', 'Motu Patlu Cooking_Admob',\n",
       "       'Motu Patlu Cooking_Inmobi_L', 'ludo superstar', 'Math Door_Admob',\n",
       "       'Math Door_GG_AdX', 'Motu Patlu Cycling Adventure_Admob_MCM',\n",
       "       'Motu Patlu Cycling Adventure_Inmobi_L',\n",
       "       'Battle of Chepauk_Inmobi_L', 'Nursing_Exam_Admob_Banner_4696',\n",
       "       'Nexplay - Native - Admob', 'Nexplay - Banner - Admob',\n",
       "       'India GST Calculator_Mopub_New', 'Battle of Chepauk_Admob',\n",
       "       'Motu Patlu Cricket Game_Admob',\n",
       "       'Motu Patlu Cricket Game_Inmobi_L',\n",
       "       'Sling Kong_Admob_Android_all floors',\n",
       "       'Sling Kong_Admob_iOS_all floors', 'Sling Kong_Admob_Android_high',\n",
       "       'sling kong_Admob_Android_mid', 'sling kong_admob_ios_mid',\n",
       "       'sling kong_admob_ios_high', 'Sling Kong_Inmobi_L',\n",
       "       'StadtLandFluss_Admob', '4 Digit Code_Inmobi_L',\n",
       "       '4 Digit Code_Admob', '4 Digit Code_GG_AdX', 'Pocket League_Admob',\n",
       "       'Baba Cric_Admob', 'Baba Cric_Inmobi_L',\n",
       "       'Police Chase -Death Race Speed Car Shooting Racing_Admob',\n",
       "       'Police Chase -Death Race Speed Car Shooting Racing_Inmobi_L',\n",
       "       'AppBrowzer_Admob',\n",
       "       'Traffic bangalore_Admob_Native_Orignal_Placement', 'Banner1',\n",
       "       'Traffic bangalore_Admob_Native', 'RCB epic cricket',\n",
       "       'Real Carrom_Inmobi_L', 'barcod scanner_AdX',\n",
       "       'Barcod Scanner_GG_AdX', 'Telugu Calendar_Admob',\n",
       "       'Telugu calendar_GG_AdX', 'WccLite_Admob', 'WccLite_Inmobi_L',\n",
       "       'Vehicle Owner Details - Native', 'Town Talk_GG_AdX',\n",
       "       'Snake and Ladder_Admob', 'Snake and Ladder_Inmobi_L',\n",
       "       'My Perfect 11_Admob', 'Counter Rivals_Admob_Android',\n",
       "       'Counter Rivals_Admob_iOS', 'Counter Rivals Online_Admob_Android',\n",
       "       'Counter Rivals Online_Admob_iOS', 'Real Carrom_Admob',\n",
       "       'Dinosaur Simulator: Dino World_Admob',\n",
       "       'Dinosaur Simulator: Dino World_Inmobi_L',\n",
       "       'Amazing strange rope police', 'Gionee Change', 'Guru Cric_Admob',\n",
       "       'GK Hindi_Admob', 'Doctor Dash_Admob',\n",
       "       'Latest Attitude Status 2020_Admob', 'Youtube', 'Test 1', 'Test 2',\n",
       "       'Power Predictor_Admob', 'Corona_Banner_Admob',\n",
       "       'Vehicle Owner Details - Admob', '362.868', 'banner adx',\n",
       "       'QA SDK X Sample Build_Test AdGroup 1', 'Spotify', 'Hotstar',\n",
       "       'Jesus Wallpapers', 'Jesus Wallpaper_Admob_New_Banner',\n",
       "       'Banner 1 => home screen (Admob)',\n",
       "       'Banner 2 => video detail screen',\n",
       "       'Banner 4 => video list screen (Admob)', 'Test Impression',\n",
       "       'Banner 4 => video list screen (SDK X)',\n",
       "       'Banner 2 => video detail screen (SDK X)',\n",
       "       'Banner 1 => home screen (SDK X)', 'Kannada Keyboard_Inmobi',\n",
       "       'Sachin Saga_Admob_GG', 'WooDoo_Admob',\n",
       "       'QA SDK X Sample Build_Debug_Test AdGroup 2', 'Test2', 'test',\n",
       "       'OCR Barcod Scanner_Admob', 'Robot Ninja_Admob',\n",
       "       'Sachin Saga_Inmobi_L', 'Blackboard Edutech_Admob',\n",
       "       'Sachin Saga_Admob_iOS'], dtype=object)"
      ]
     },
     "execution_count": 20,
     "metadata": {},
     "output_type": "execute_result"
    }
   ],
   "source": [
    "data[\"Ad Group\"].unique()"
   ]
  },
  {
   "cell_type": "code",
   "execution_count": 21,
   "id": "dce7035a-4df2-4eab-b6e1-0eebb3b4b996",
   "metadata": {},
   "outputs": [
    {
     "data": {
      "text/plain": [
       "188"
      ]
     },
     "execution_count": 21,
     "metadata": {},
     "output_type": "execute_result"
    }
   ],
   "source": [
    "data[\"Ad Group\"].nunique()"
   ]
  },
  {
   "cell_type": "markdown",
   "id": "f2479644-bbd4-4d48-9ea8-b72604135ae2",
   "metadata": {},
   "source": [
    "So the column contains 188 nmber of unique values.\n"
   ]
  },
  {
   "cell_type": "markdown",
   "id": "2ce6c925-6bdb-4e95-b572-c90076190d5b",
   "metadata": {},
   "source": [
    "Now we will see those null rows to check the discrepancies among our data we have and how we can deal with them."
   ]
  },
  {
   "cell_type": "code",
   "execution_count": 22,
   "id": "373a934d-2fbe-40a4-b202-350110cba2ef",
   "metadata": {},
   "outputs": [
    {
     "data": {
      "text/html": [
       "<div>\n",
       "<style scoped>\n",
       "    .dataframe tbody tr th:only-of-type {\n",
       "        vertical-align: middle;\n",
       "    }\n",
       "\n",
       "    .dataframe tbody tr th {\n",
       "        vertical-align: top;\n",
       "    }\n",
       "\n",
       "    .dataframe thead th {\n",
       "        text-align: right;\n",
       "    }\n",
       "</style>\n",
       "<table border=\"1\" class=\"dataframe\">\n",
       "  <thead>\n",
       "    <tr style=\"text-align: right;\">\n",
       "      <th></th>\n",
       "      <th>Date</th>\n",
       "      <th>App</th>\n",
       "      <th>Ad Group</th>\n",
       "      <th>State</th>\n",
       "      <th>Revenue</th>\n",
       "      <th>Ad Requests</th>\n",
       "      <th>Ad Responses</th>\n",
       "      <th>Fill Rate</th>\n",
       "      <th>Impressions</th>\n",
       "      <th>Render Rate</th>\n",
       "      <th>1st Clicks</th>\n",
       "      <th>2nd Clicks</th>\n",
       "    </tr>\n",
       "  </thead>\n",
       "  <tbody>\n",
       "    <tr>\n",
       "      <th>10131</th>\n",
       "      <td>12 Sep 2020</td>\n",
       "      <td>Vehicle Owner Details</td>\n",
       "      <td>NaN</td>\n",
       "      <td>Maharashtra</td>\n",
       "      <td>0.0</td>\n",
       "      <td>11174</td>\n",
       "      <td>0</td>\n",
       "      <td>0.00%</td>\n",
       "      <td>0</td>\n",
       "      <td>0.00%</td>\n",
       "      <td>0</td>\n",
       "      <td>0</td>\n",
       "    </tr>\n",
       "    <tr>\n",
       "      <th>11339</th>\n",
       "      <td>11 Sep 2020</td>\n",
       "      <td>Chhota Bheem Race Game</td>\n",
       "      <td>NaN</td>\n",
       "      <td>Unresolved</td>\n",
       "      <td>0.0</td>\n",
       "      <td>7527</td>\n",
       "      <td>0</td>\n",
       "      <td>0.00%</td>\n",
       "      <td>0</td>\n",
       "      <td>0.00%</td>\n",
       "      <td>0</td>\n",
       "      <td>0</td>\n",
       "    </tr>\n",
       "    <tr>\n",
       "      <th>11511</th>\n",
       "      <td>09 Sep 2020</td>\n",
       "      <td>Chhota Bheem Race Game</td>\n",
       "      <td>NaN</td>\n",
       "      <td>Unresolved</td>\n",
       "      <td>0.0</td>\n",
       "      <td>7269</td>\n",
       "      <td>0</td>\n",
       "      <td>0.00%</td>\n",
       "      <td>0</td>\n",
       "      <td>0.00%</td>\n",
       "      <td>0</td>\n",
       "      <td>0</td>\n",
       "    </tr>\n",
       "    <tr>\n",
       "      <th>11547</th>\n",
       "      <td>10 Sep 2020</td>\n",
       "      <td>Chhota Bheem Race Game</td>\n",
       "      <td>NaN</td>\n",
       "      <td>Unresolved</td>\n",
       "      <td>0.0</td>\n",
       "      <td>7193</td>\n",
       "      <td>0</td>\n",
       "      <td>0.00%</td>\n",
       "      <td>0</td>\n",
       "      <td>0.00%</td>\n",
       "      <td>0</td>\n",
       "      <td>0</td>\n",
       "    </tr>\n",
       "    <tr>\n",
       "      <th>11571</th>\n",
       "      <td>08 Sep 2020</td>\n",
       "      <td>Chhota Bheem Race Game</td>\n",
       "      <td>NaN</td>\n",
       "      <td>Unresolved</td>\n",
       "      <td>0.0</td>\n",
       "      <td>7173</td>\n",
       "      <td>0</td>\n",
       "      <td>0.00%</td>\n",
       "      <td>0</td>\n",
       "      <td>0.00%</td>\n",
       "      <td>0</td>\n",
       "      <td>0</td>\n",
       "    </tr>\n",
       "    <tr>\n",
       "      <th>...</th>\n",
       "      <td>...</td>\n",
       "      <td>...</td>\n",
       "      <td>...</td>\n",
       "      <td>...</td>\n",
       "      <td>...</td>\n",
       "      <td>...</td>\n",
       "      <td>...</td>\n",
       "      <td>...</td>\n",
       "      <td>...</td>\n",
       "      <td>...</td>\n",
       "      <td>...</td>\n",
       "      <td>...</td>\n",
       "    </tr>\n",
       "    <tr>\n",
       "      <th>48228</th>\n",
       "      <td>10 Sep 2020</td>\n",
       "      <td>Barcod Scanner</td>\n",
       "      <td>NaN</td>\n",
       "      <td>Telangana</td>\n",
       "      <td>0.0</td>\n",
       "      <td>0</td>\n",
       "      <td>0</td>\n",
       "      <td>0.00%</td>\n",
       "      <td>0</td>\n",
       "      <td>0.00%</td>\n",
       "      <td>0</td>\n",
       "      <td>0</td>\n",
       "    </tr>\n",
       "    <tr>\n",
       "      <th>48229</th>\n",
       "      <td>10 Sep 2020</td>\n",
       "      <td>Vehicle Owner Details</td>\n",
       "      <td>NaN</td>\n",
       "      <td>Goa</td>\n",
       "      <td>0.0</td>\n",
       "      <td>0</td>\n",
       "      <td>0</td>\n",
       "      <td>0.00%</td>\n",
       "      <td>0</td>\n",
       "      <td>0.00%</td>\n",
       "      <td>0</td>\n",
       "      <td>0</td>\n",
       "    </tr>\n",
       "    <tr>\n",
       "      <th>48230</th>\n",
       "      <td>10 Sep 2020</td>\n",
       "      <td>VR Thrills</td>\n",
       "      <td>NaN</td>\n",
       "      <td>West Bengal</td>\n",
       "      <td>0.0</td>\n",
       "      <td>0</td>\n",
       "      <td>0</td>\n",
       "      <td>0.00%</td>\n",
       "      <td>0</td>\n",
       "      <td>0.00%</td>\n",
       "      <td>0</td>\n",
       "      <td>0</td>\n",
       "    </tr>\n",
       "    <tr>\n",
       "      <th>48231</th>\n",
       "      <td>10 Sep 2020</td>\n",
       "      <td>Zoo Craft : Blocky World Construction &amp; Builder</td>\n",
       "      <td>NaN</td>\n",
       "      <td>Maharashtra</td>\n",
       "      <td>0.0</td>\n",
       "      <td>0</td>\n",
       "      <td>0</td>\n",
       "      <td>0.00%</td>\n",
       "      <td>0</td>\n",
       "      <td>0.00%</td>\n",
       "      <td>0</td>\n",
       "      <td>0</td>\n",
       "    </tr>\n",
       "    <tr>\n",
       "      <th>48232</th>\n",
       "      <td>10 Sep 2020</td>\n",
       "      <td>Rohit Cricket Championship</td>\n",
       "      <td>NaN</td>\n",
       "      <td>Rajasthan</td>\n",
       "      <td>0.0</td>\n",
       "      <td>0</td>\n",
       "      <td>0</td>\n",
       "      <td>0.00%</td>\n",
       "      <td>0</td>\n",
       "      <td>0.00%</td>\n",
       "      <td>0</td>\n",
       "      <td>0</td>\n",
       "    </tr>\n",
       "  </tbody>\n",
       "</table>\n",
       "<p>3993 rows × 12 columns</p>\n",
       "</div>"
      ],
      "text/plain": [
       "              Date                                              App Ad Group  \\\n",
       "10131  12 Sep 2020                            Vehicle Owner Details      NaN   \n",
       "11339  11 Sep 2020                           Chhota Bheem Race Game      NaN   \n",
       "11511  09 Sep 2020                           Chhota Bheem Race Game      NaN   \n",
       "11547  10 Sep 2020                           Chhota Bheem Race Game      NaN   \n",
       "11571  08 Sep 2020                           Chhota Bheem Race Game      NaN   \n",
       "...            ...                                              ...      ...   \n",
       "48228  10 Sep 2020                                   Barcod Scanner      NaN   \n",
       "48229  10 Sep 2020                            Vehicle Owner Details      NaN   \n",
       "48230  10 Sep 2020                                       VR Thrills      NaN   \n",
       "48231  10 Sep 2020  Zoo Craft : Blocky World Construction & Builder      NaN   \n",
       "48232  10 Sep 2020                       Rohit Cricket Championship      NaN   \n",
       "\n",
       "             State  Revenue  Ad Requests  Ad Responses Fill Rate  Impressions  \\\n",
       "10131  Maharashtra      0.0        11174             0     0.00%            0   \n",
       "11339   Unresolved      0.0         7527             0     0.00%            0   \n",
       "11511   Unresolved      0.0         7269             0     0.00%            0   \n",
       "11547   Unresolved      0.0         7193             0     0.00%            0   \n",
       "11571   Unresolved      0.0         7173             0     0.00%            0   \n",
       "...            ...      ...          ...           ...       ...          ...   \n",
       "48228    Telangana      0.0            0             0     0.00%            0   \n",
       "48229          Goa      0.0            0             0     0.00%            0   \n",
       "48230  West Bengal      0.0            0             0     0.00%            0   \n",
       "48231  Maharashtra      0.0            0             0     0.00%            0   \n",
       "48232    Rajasthan      0.0            0             0     0.00%            0   \n",
       "\n",
       "      Render Rate  1st Clicks  2nd Clicks  \n",
       "10131       0.00%           0           0  \n",
       "11339       0.00%           0           0  \n",
       "11511       0.00%           0           0  \n",
       "11547       0.00%           0           0  \n",
       "11571       0.00%           0           0  \n",
       "...           ...         ...         ...  \n",
       "48228       0.00%           0           0  \n",
       "48229       0.00%           0           0  \n",
       "48230       0.00%           0           0  \n",
       "48231       0.00%           0           0  \n",
       "48232       0.00%           0           0  \n",
       "\n",
       "[3993 rows x 12 columns]"
      ]
     },
     "execution_count": 22,
     "metadata": {},
     "output_type": "execute_result"
    }
   ],
   "source": [
    "#This shows us all the null values in our column \"Ad Group\" .  \n",
    "data[data[\"Ad Group\"].isnull()]"
   ]
  },
  {
   "cell_type": "markdown",
   "id": "73d07e12-8205-4683-bc6c-631bf07a5e59",
   "metadata": {},
   "source": [
    "Now we are able to see that the column \" Ad Group \" contains 3993 rows null. Also the other columns against the column \" Ad Group\" contains almost values as 0 such as columns like \" 2nd Clicks\" ,\"1st Clicks\", \"Render Rate\", \"Impressions\" , \"Fill Rate\" , \"Ad Responses\" . \n",
    "So here also if we delete the rows that contain null values against the column \"Ad Group\" then there is no disadvantage of doing that also."
   ]
  },
  {
   "cell_type": "code",
   "execution_count": 23,
   "id": "dca0b056-e804-401a-8ce6-477fbb4afa58",
   "metadata": {},
   "outputs": [],
   "source": [
    "data.dropna(subset=[\"Ad Group\"],how=\"all\",inplace=True)"
   ]
  },
  {
   "cell_type": "markdown",
   "id": "4fcfaada-b32e-4394-991e-6f3e51fe2f0d",
   "metadata": {},
   "source": [
    "As first of all our main motive is to find out that how can we increase the revenue of the app.So now we will try to find out the relation between our column Revenue and other columns.  "
   ]
  },
  {
   "cell_type": "markdown",
   "id": "015bcd0e-c00b-49c9-901a-a2b97b62f5dc",
   "metadata": {},
   "source": [
    "Now we will check again the shape and also check for any null values if there is any whic we have done earlier upward."
   ]
  },
  {
   "cell_type": "code",
   "execution_count": 24,
   "id": "1dcb3683-7a89-44d7-81d5-00fc0dec1677",
   "metadata": {},
   "outputs": [
    {
     "data": {
      "text/plain": [
       "(44277, 12)"
      ]
     },
     "execution_count": 24,
     "metadata": {},
     "output_type": "execute_result"
    }
   ],
   "source": [
    "data.shape"
   ]
  },
  {
   "cell_type": "code",
   "execution_count": 25,
   "id": "4956efbd-fb53-4ede-853c-cc50089fc23e",
   "metadata": {},
   "outputs": [
    {
     "data": {
      "text/plain": [
       "(44277, 12)"
      ]
     },
     "execution_count": 25,
     "metadata": {},
     "output_type": "execute_result"
    }
   ],
   "source": [
    "data.shape"
   ]
  },
  {
   "cell_type": "code",
   "execution_count": 26,
   "id": "348e5aae-c9fc-4a8c-92c0-bf13af28df21",
   "metadata": {},
   "outputs": [
    {
     "data": {
      "text/plain": [
       "Index(['Date', 'App', 'Ad Group', 'State', 'Revenue', 'Ad Requests',\n",
       "       'Ad Responses', 'Fill Rate', 'Impressions', 'Render Rate', '1st Clicks',\n",
       "       '2nd Clicks'],\n",
       "      dtype='object')"
      ]
     },
     "execution_count": 26,
     "metadata": {},
     "output_type": "execute_result"
    }
   ],
   "source": [
    "data.columns"
   ]
  },
  {
   "cell_type": "markdown",
   "id": "e6ea6a1d-6683-405c-b7de-9355f9a8e55a",
   "metadata": {},
   "source": [
    "Also to understand our data in a more familiar way we can convert the float values into integer type values but here I think that the values which are in float should be remain in float as rate should always be in percent and we should leave it like that only  "
   ]
  },
  {
   "cell_type": "markdown",
   "id": "941c5493-3ceb-45d3-aa5f-38caaaa177ea",
   "metadata": {},
   "source": [
    "Here we will see that the datatype of the column render rate and fill rate is object due to the presence of \"%\"sign here."
   ]
  },
  {
   "cell_type": "code",
   "execution_count": 27,
   "id": "17cafe2f-c6fe-4d57-938f-99f67097353d",
   "metadata": {},
   "outputs": [
    {
     "data": {
      "text/plain": [
       "(231,)"
      ]
     },
     "execution_count": 27,
     "metadata": {},
     "output_type": "execute_result"
    }
   ],
   "source": [
    "data[\"Fill Rate\"].unique().shape"
   ]
  },
  {
   "cell_type": "code",
   "execution_count": 28,
   "id": "e924f646-02a2-4682-a21f-717a7e3332e4",
   "metadata": {},
   "outputs": [
    {
     "data": {
      "text/plain": [
       "231"
      ]
     },
     "execution_count": 28,
     "metadata": {},
     "output_type": "execute_result"
    }
   ],
   "source": [
    "data[\"Fill Rate\"].nunique()"
   ]
  },
  {
   "cell_type": "code",
   "execution_count": 29,
   "id": "9ae5de73-e2ab-41db-a692-0b20a95be245",
   "metadata": {},
   "outputs": [
    {
     "data": {
      "text/html": [
       "<div>\n",
       "<style scoped>\n",
       "    .dataframe tbody tr th:only-of-type {\n",
       "        vertical-align: middle;\n",
       "    }\n",
       "\n",
       "    .dataframe tbody tr th {\n",
       "        vertical-align: top;\n",
       "    }\n",
       "\n",
       "    .dataframe thead th {\n",
       "        text-align: right;\n",
       "    }\n",
       "</style>\n",
       "<table border=\"1\" class=\"dataframe\">\n",
       "  <thead>\n",
       "    <tr style=\"text-align: right;\">\n",
       "      <th></th>\n",
       "      <th>Date</th>\n",
       "      <th>App</th>\n",
       "      <th>Ad Group</th>\n",
       "      <th>State</th>\n",
       "      <th>Revenue</th>\n",
       "      <th>Ad Requests</th>\n",
       "      <th>Ad Responses</th>\n",
       "      <th>Fill Rate</th>\n",
       "      <th>Impressions</th>\n",
       "      <th>Render Rate</th>\n",
       "      <th>1st Clicks</th>\n",
       "      <th>2nd Clicks</th>\n",
       "    </tr>\n",
       "  </thead>\n",
       "  <tbody>\n",
       "    <tr>\n",
       "      <th>0</th>\n",
       "      <td>08 Sep 2020</td>\n",
       "      <td>(SDK X) Cricket Mazza</td>\n",
       "      <td>Cricket Mazza Banner (AdX)</td>\n",
       "      <td>Unresolved</td>\n",
       "      <td>0.0</td>\n",
       "      <td>3932330</td>\n",
       "      <td>3926253</td>\n",
       "      <td>99.9%</td>\n",
       "      <td>3849749</td>\n",
       "      <td>98.1%</td>\n",
       "      <td>10199</td>\n",
       "      <td>0</td>\n",
       "    </tr>\n",
       "    <tr>\n",
       "      <th>1</th>\n",
       "      <td>08 Sep 2020</td>\n",
       "      <td>(SDK X) Cricket Mazza</td>\n",
       "      <td>320x50</td>\n",
       "      <td>Unresolved</td>\n",
       "      <td>0.0</td>\n",
       "      <td>3932330</td>\n",
       "      <td>119</td>\n",
       "      <td>99.9%</td>\n",
       "      <td>118</td>\n",
       "      <td>99.2%</td>\n",
       "      <td>2</td>\n",
       "      <td>2</td>\n",
       "    </tr>\n",
       "    <tr>\n",
       "      <th>2</th>\n",
       "      <td>08 Sep 2020</td>\n",
       "      <td>(SDK X) Cricket Mazza</td>\n",
       "      <td>Dream11_320x50</td>\n",
       "      <td>Unresolved</td>\n",
       "      <td>0.0</td>\n",
       "      <td>3932330</td>\n",
       "      <td>96</td>\n",
       "      <td>99.9%</td>\n",
       "      <td>93</td>\n",
       "      <td>96.9%</td>\n",
       "      <td>2</td>\n",
       "      <td>2</td>\n",
       "    </tr>\n",
       "    <tr>\n",
       "      <th>3</th>\n",
       "      <td>08 Sep 2020</td>\n",
       "      <td>(SDK X) Cricket Mazza</td>\n",
       "      <td>My11_320x50</td>\n",
       "      <td>Unresolved</td>\n",
       "      <td>0.0</td>\n",
       "      <td>3932330</td>\n",
       "      <td>111</td>\n",
       "      <td>99.9%</td>\n",
       "      <td>110</td>\n",
       "      <td>99.1%</td>\n",
       "      <td>2</td>\n",
       "      <td>2</td>\n",
       "    </tr>\n",
       "    <tr>\n",
       "      <th>4</th>\n",
       "      <td>06 Sep 2020</td>\n",
       "      <td>(SDK X) Cricket Mazza</td>\n",
       "      <td>Cricket Mazza Banner (AdX)</td>\n",
       "      <td>Unresolved</td>\n",
       "      <td>0.0</td>\n",
       "      <td>3839002</td>\n",
       "      <td>3834328</td>\n",
       "      <td>99.9%</td>\n",
       "      <td>3785127</td>\n",
       "      <td>98.7%</td>\n",
       "      <td>9492</td>\n",
       "      <td>0</td>\n",
       "    </tr>\n",
       "  </tbody>\n",
       "</table>\n",
       "</div>"
      ],
      "text/plain": [
       "          Date                     App                    Ad Group  \\\n",
       "0  08 Sep 2020  (SDK X) Cricket Mazza   Cricket Mazza Banner (AdX)   \n",
       "1  08 Sep 2020  (SDK X) Cricket Mazza                       320x50   \n",
       "2  08 Sep 2020  (SDK X) Cricket Mazza               Dream11_320x50   \n",
       "3  08 Sep 2020  (SDK X) Cricket Mazza                  My11_320x50   \n",
       "4  06 Sep 2020  (SDK X) Cricket Mazza   Cricket Mazza Banner (AdX)   \n",
       "\n",
       "        State  Revenue  Ad Requests  Ad Responses Fill Rate  Impressions  \\\n",
       "0  Unresolved      0.0      3932330       3926253     99.9%      3849749   \n",
       "1  Unresolved      0.0      3932330           119     99.9%          118   \n",
       "2  Unresolved      0.0      3932330            96     99.9%           93   \n",
       "3  Unresolved      0.0      3932330           111     99.9%          110   \n",
       "4  Unresolved      0.0      3839002       3834328     99.9%      3785127   \n",
       "\n",
       "  Render Rate  1st Clicks  2nd Clicks  \n",
       "0       98.1%       10199           0  \n",
       "1       99.2%           2           2  \n",
       "2       96.9%           2           2  \n",
       "3       99.1%           2           2  \n",
       "4       98.7%        9492           0  "
      ]
     },
     "execution_count": 29,
     "metadata": {},
     "output_type": "execute_result"
    }
   ],
   "source": [
    "data.head()"
   ]
  },
  {
   "cell_type": "code",
   "execution_count": 30,
   "id": "91c416d6-9992-45db-9bb4-082a41f4cdad",
   "metadata": {},
   "outputs": [
    {
     "data": {
      "text/plain": [
       "(44277, 12)"
      ]
     },
     "execution_count": 30,
     "metadata": {},
     "output_type": "execute_result"
    }
   ],
   "source": [
    "data.shape"
   ]
  },
  {
   "cell_type": "markdown",
   "id": "0db3858f-9a2b-499b-a437-d22c787e1061",
   "metadata": {},
   "source": [
    "Below I have created a new column with short name RenderRate . we can also replace the same with the same name as we have done with the column Fill Rate."
   ]
  },
  {
   "cell_type": "code",
   "execution_count": 31,
   "id": "7d2b38df-c6be-4bb0-8a9a-4d0be82b550e",
   "metadata": {},
   "outputs": [
    {
     "name": "stderr",
     "output_type": "stream",
     "text": [
      "C:\\Users\\91967\\AppData\\Local\\Temp/ipykernel_6608/3714396828.py:1: FutureWarning: The default value of regex will change from True to False in a future version.\n",
      "  data[\"RenderRate\"]=data[\"Render Rate\"].str.replace('[\\%]',\"\").astype(float)\n"
     ]
    }
   ],
   "source": [
    "data[\"RenderRate\"]=data[\"Render Rate\"].str.replace('[\\%]',\"\").astype(float)"
   ]
  },
  {
   "cell_type": "code",
   "execution_count": 32,
   "id": "7fca66ab-79c5-479e-8446-adb750fea907",
   "metadata": {},
   "outputs": [
    {
     "data": {
      "text/html": [
       "<div>\n",
       "<style scoped>\n",
       "    .dataframe tbody tr th:only-of-type {\n",
       "        vertical-align: middle;\n",
       "    }\n",
       "\n",
       "    .dataframe tbody tr th {\n",
       "        vertical-align: top;\n",
       "    }\n",
       "\n",
       "    .dataframe thead th {\n",
       "        text-align: right;\n",
       "    }\n",
       "</style>\n",
       "<table border=\"1\" class=\"dataframe\">\n",
       "  <thead>\n",
       "    <tr style=\"text-align: right;\">\n",
       "      <th></th>\n",
       "      <th>Date</th>\n",
       "      <th>App</th>\n",
       "      <th>Ad Group</th>\n",
       "      <th>State</th>\n",
       "      <th>Revenue</th>\n",
       "      <th>Ad Requests</th>\n",
       "      <th>Ad Responses</th>\n",
       "      <th>Fill Rate</th>\n",
       "      <th>Impressions</th>\n",
       "      <th>Render Rate</th>\n",
       "      <th>1st Clicks</th>\n",
       "      <th>2nd Clicks</th>\n",
       "      <th>RenderRate</th>\n",
       "    </tr>\n",
       "  </thead>\n",
       "  <tbody>\n",
       "    <tr>\n",
       "      <th>0</th>\n",
       "      <td>08 Sep 2020</td>\n",
       "      <td>(SDK X) Cricket Mazza</td>\n",
       "      <td>Cricket Mazza Banner (AdX)</td>\n",
       "      <td>Unresolved</td>\n",
       "      <td>0.0</td>\n",
       "      <td>3932330</td>\n",
       "      <td>3926253</td>\n",
       "      <td>99.9%</td>\n",
       "      <td>3849749</td>\n",
       "      <td>98.1%</td>\n",
       "      <td>10199</td>\n",
       "      <td>0</td>\n",
       "      <td>98.1</td>\n",
       "    </tr>\n",
       "    <tr>\n",
       "      <th>1</th>\n",
       "      <td>08 Sep 2020</td>\n",
       "      <td>(SDK X) Cricket Mazza</td>\n",
       "      <td>320x50</td>\n",
       "      <td>Unresolved</td>\n",
       "      <td>0.0</td>\n",
       "      <td>3932330</td>\n",
       "      <td>119</td>\n",
       "      <td>99.9%</td>\n",
       "      <td>118</td>\n",
       "      <td>99.2%</td>\n",
       "      <td>2</td>\n",
       "      <td>2</td>\n",
       "      <td>99.2</td>\n",
       "    </tr>\n",
       "    <tr>\n",
       "      <th>2</th>\n",
       "      <td>08 Sep 2020</td>\n",
       "      <td>(SDK X) Cricket Mazza</td>\n",
       "      <td>Dream11_320x50</td>\n",
       "      <td>Unresolved</td>\n",
       "      <td>0.0</td>\n",
       "      <td>3932330</td>\n",
       "      <td>96</td>\n",
       "      <td>99.9%</td>\n",
       "      <td>93</td>\n",
       "      <td>96.9%</td>\n",
       "      <td>2</td>\n",
       "      <td>2</td>\n",
       "      <td>96.9</td>\n",
       "    </tr>\n",
       "    <tr>\n",
       "      <th>3</th>\n",
       "      <td>08 Sep 2020</td>\n",
       "      <td>(SDK X) Cricket Mazza</td>\n",
       "      <td>My11_320x50</td>\n",
       "      <td>Unresolved</td>\n",
       "      <td>0.0</td>\n",
       "      <td>3932330</td>\n",
       "      <td>111</td>\n",
       "      <td>99.9%</td>\n",
       "      <td>110</td>\n",
       "      <td>99.1%</td>\n",
       "      <td>2</td>\n",
       "      <td>2</td>\n",
       "      <td>99.1</td>\n",
       "    </tr>\n",
       "    <tr>\n",
       "      <th>4</th>\n",
       "      <td>06 Sep 2020</td>\n",
       "      <td>(SDK X) Cricket Mazza</td>\n",
       "      <td>Cricket Mazza Banner (AdX)</td>\n",
       "      <td>Unresolved</td>\n",
       "      <td>0.0</td>\n",
       "      <td>3839002</td>\n",
       "      <td>3834328</td>\n",
       "      <td>99.9%</td>\n",
       "      <td>3785127</td>\n",
       "      <td>98.7%</td>\n",
       "      <td>9492</td>\n",
       "      <td>0</td>\n",
       "      <td>98.7</td>\n",
       "    </tr>\n",
       "  </tbody>\n",
       "</table>\n",
       "</div>"
      ],
      "text/plain": [
       "          Date                     App                    Ad Group  \\\n",
       "0  08 Sep 2020  (SDK X) Cricket Mazza   Cricket Mazza Banner (AdX)   \n",
       "1  08 Sep 2020  (SDK X) Cricket Mazza                       320x50   \n",
       "2  08 Sep 2020  (SDK X) Cricket Mazza               Dream11_320x50   \n",
       "3  08 Sep 2020  (SDK X) Cricket Mazza                  My11_320x50   \n",
       "4  06 Sep 2020  (SDK X) Cricket Mazza   Cricket Mazza Banner (AdX)   \n",
       "\n",
       "        State  Revenue  Ad Requests  Ad Responses Fill Rate  Impressions  \\\n",
       "0  Unresolved      0.0      3932330       3926253     99.9%      3849749   \n",
       "1  Unresolved      0.0      3932330           119     99.9%          118   \n",
       "2  Unresolved      0.0      3932330            96     99.9%           93   \n",
       "3  Unresolved      0.0      3932330           111     99.9%          110   \n",
       "4  Unresolved      0.0      3839002       3834328     99.9%      3785127   \n",
       "\n",
       "  Render Rate  1st Clicks  2nd Clicks  RenderRate  \n",
       "0       98.1%       10199           0        98.1  \n",
       "1       99.2%           2           2        99.2  \n",
       "2       96.9%           2           2        96.9  \n",
       "3       99.1%           2           2        99.1  \n",
       "4       98.7%        9492           0        98.7  "
      ]
     },
     "execution_count": 32,
     "metadata": {},
     "output_type": "execute_result"
    }
   ],
   "source": [
    "data.head()"
   ]
  },
  {
   "cell_type": "code",
   "execution_count": 33,
   "id": "dbc5a5bd-a55f-4dc3-a178-90a4abc1578c",
   "metadata": {},
   "outputs": [
    {
     "name": "stderr",
     "output_type": "stream",
     "text": [
      "C:\\Users\\91967\\AppData\\Local\\Temp/ipykernel_6608/1654817561.py:1: FutureWarning: The default value of regex will change from True to False in a future version.\n",
      "  data[\"Fill Rate\"]=data[\"Fill Rate\"].str.replace('[\\%]',\"\").astype(float)\n"
     ]
    }
   ],
   "source": [
    "data[\"Fill Rate\"]=data[\"Fill Rate\"].str.replace('[\\%]',\"\").astype(float)"
   ]
  },
  {
   "cell_type": "code",
   "execution_count": 34,
   "id": "1c48699d-ff07-4e4a-a299-b78b168b10df",
   "metadata": {},
   "outputs": [
    {
     "data": {
      "text/html": [
       "<div>\n",
       "<style scoped>\n",
       "    .dataframe tbody tr th:only-of-type {\n",
       "        vertical-align: middle;\n",
       "    }\n",
       "\n",
       "    .dataframe tbody tr th {\n",
       "        vertical-align: top;\n",
       "    }\n",
       "\n",
       "    .dataframe thead th {\n",
       "        text-align: right;\n",
       "    }\n",
       "</style>\n",
       "<table border=\"1\" class=\"dataframe\">\n",
       "  <thead>\n",
       "    <tr style=\"text-align: right;\">\n",
       "      <th></th>\n",
       "      <th>Date</th>\n",
       "      <th>App</th>\n",
       "      <th>Ad Group</th>\n",
       "      <th>State</th>\n",
       "      <th>Revenue</th>\n",
       "      <th>Ad Requests</th>\n",
       "      <th>Ad Responses</th>\n",
       "      <th>Fill Rate</th>\n",
       "      <th>Impressions</th>\n",
       "      <th>Render Rate</th>\n",
       "      <th>1st Clicks</th>\n",
       "      <th>2nd Clicks</th>\n",
       "      <th>RenderRate</th>\n",
       "    </tr>\n",
       "  </thead>\n",
       "  <tbody>\n",
       "    <tr>\n",
       "      <th>0</th>\n",
       "      <td>08 Sep 2020</td>\n",
       "      <td>(SDK X) Cricket Mazza</td>\n",
       "      <td>Cricket Mazza Banner (AdX)</td>\n",
       "      <td>Unresolved</td>\n",
       "      <td>0.0</td>\n",
       "      <td>3932330</td>\n",
       "      <td>3926253</td>\n",
       "      <td>99.9</td>\n",
       "      <td>3849749</td>\n",
       "      <td>98.1%</td>\n",
       "      <td>10199</td>\n",
       "      <td>0</td>\n",
       "      <td>98.1</td>\n",
       "    </tr>\n",
       "    <tr>\n",
       "      <th>1</th>\n",
       "      <td>08 Sep 2020</td>\n",
       "      <td>(SDK X) Cricket Mazza</td>\n",
       "      <td>320x50</td>\n",
       "      <td>Unresolved</td>\n",
       "      <td>0.0</td>\n",
       "      <td>3932330</td>\n",
       "      <td>119</td>\n",
       "      <td>99.9</td>\n",
       "      <td>118</td>\n",
       "      <td>99.2%</td>\n",
       "      <td>2</td>\n",
       "      <td>2</td>\n",
       "      <td>99.2</td>\n",
       "    </tr>\n",
       "    <tr>\n",
       "      <th>2</th>\n",
       "      <td>08 Sep 2020</td>\n",
       "      <td>(SDK X) Cricket Mazza</td>\n",
       "      <td>Dream11_320x50</td>\n",
       "      <td>Unresolved</td>\n",
       "      <td>0.0</td>\n",
       "      <td>3932330</td>\n",
       "      <td>96</td>\n",
       "      <td>99.9</td>\n",
       "      <td>93</td>\n",
       "      <td>96.9%</td>\n",
       "      <td>2</td>\n",
       "      <td>2</td>\n",
       "      <td>96.9</td>\n",
       "    </tr>\n",
       "    <tr>\n",
       "      <th>3</th>\n",
       "      <td>08 Sep 2020</td>\n",
       "      <td>(SDK X) Cricket Mazza</td>\n",
       "      <td>My11_320x50</td>\n",
       "      <td>Unresolved</td>\n",
       "      <td>0.0</td>\n",
       "      <td>3932330</td>\n",
       "      <td>111</td>\n",
       "      <td>99.9</td>\n",
       "      <td>110</td>\n",
       "      <td>99.1%</td>\n",
       "      <td>2</td>\n",
       "      <td>2</td>\n",
       "      <td>99.1</td>\n",
       "    </tr>\n",
       "    <tr>\n",
       "      <th>4</th>\n",
       "      <td>06 Sep 2020</td>\n",
       "      <td>(SDK X) Cricket Mazza</td>\n",
       "      <td>Cricket Mazza Banner (AdX)</td>\n",
       "      <td>Unresolved</td>\n",
       "      <td>0.0</td>\n",
       "      <td>3839002</td>\n",
       "      <td>3834328</td>\n",
       "      <td>99.9</td>\n",
       "      <td>3785127</td>\n",
       "      <td>98.7%</td>\n",
       "      <td>9492</td>\n",
       "      <td>0</td>\n",
       "      <td>98.7</td>\n",
       "    </tr>\n",
       "  </tbody>\n",
       "</table>\n",
       "</div>"
      ],
      "text/plain": [
       "          Date                     App                    Ad Group  \\\n",
       "0  08 Sep 2020  (SDK X) Cricket Mazza   Cricket Mazza Banner (AdX)   \n",
       "1  08 Sep 2020  (SDK X) Cricket Mazza                       320x50   \n",
       "2  08 Sep 2020  (SDK X) Cricket Mazza               Dream11_320x50   \n",
       "3  08 Sep 2020  (SDK X) Cricket Mazza                  My11_320x50   \n",
       "4  06 Sep 2020  (SDK X) Cricket Mazza   Cricket Mazza Banner (AdX)   \n",
       "\n",
       "        State  Revenue  Ad Requests  Ad Responses  Fill Rate  Impressions  \\\n",
       "0  Unresolved      0.0      3932330       3926253       99.9      3849749   \n",
       "1  Unresolved      0.0      3932330           119       99.9          118   \n",
       "2  Unresolved      0.0      3932330            96       99.9           93   \n",
       "3  Unresolved      0.0      3932330           111       99.9          110   \n",
       "4  Unresolved      0.0      3839002       3834328       99.9      3785127   \n",
       "\n",
       "  Render Rate  1st Clicks  2nd Clicks  RenderRate  \n",
       "0       98.1%       10199           0        98.1  \n",
       "1       99.2%           2           2        99.2  \n",
       "2       96.9%           2           2        96.9  \n",
       "3       99.1%           2           2        99.1  \n",
       "4       98.7%        9492           0        98.7  "
      ]
     },
     "execution_count": 34,
     "metadata": {},
     "output_type": "execute_result"
    }
   ],
   "source": [
    "data.head()"
   ]
  },
  {
   "cell_type": "code",
   "execution_count": 35,
   "id": "1b09eac9-e1a0-4d1d-bbb1-ca58348b6eed",
   "metadata": {},
   "outputs": [],
   "source": [
    "data.drop([\"Render Rate\"],axis = 1 ,inplace=True)"
   ]
  },
  {
   "cell_type": "code",
   "execution_count": 36,
   "id": "84257035-3da6-4131-84cb-b87d6cd13bd8",
   "metadata": {},
   "outputs": [
    {
     "data": {
      "text/plain": [
       "(44277, 12)"
      ]
     },
     "execution_count": 36,
     "metadata": {},
     "output_type": "execute_result"
    }
   ],
   "source": [
    "data.shape"
   ]
  },
  {
   "cell_type": "code",
   "execution_count": 37,
   "id": "dda08140-1b30-410d-a7ae-8d88fd178a24",
   "metadata": {},
   "outputs": [
    {
     "data": {
      "text/html": [
       "<div>\n",
       "<style scoped>\n",
       "    .dataframe tbody tr th:only-of-type {\n",
       "        vertical-align: middle;\n",
       "    }\n",
       "\n",
       "    .dataframe tbody tr th {\n",
       "        vertical-align: top;\n",
       "    }\n",
       "\n",
       "    .dataframe thead th {\n",
       "        text-align: right;\n",
       "    }\n",
       "</style>\n",
       "<table border=\"1\" class=\"dataframe\">\n",
       "  <thead>\n",
       "    <tr style=\"text-align: right;\">\n",
       "      <th></th>\n",
       "      <th>Date</th>\n",
       "      <th>App</th>\n",
       "      <th>Ad Group</th>\n",
       "      <th>State</th>\n",
       "      <th>Revenue</th>\n",
       "      <th>Ad Requests</th>\n",
       "      <th>Ad Responses</th>\n",
       "      <th>Fill Rate</th>\n",
       "      <th>Impressions</th>\n",
       "      <th>1st Clicks</th>\n",
       "      <th>2nd Clicks</th>\n",
       "      <th>RenderRate</th>\n",
       "    </tr>\n",
       "  </thead>\n",
       "  <tbody>\n",
       "    <tr>\n",
       "      <th>0</th>\n",
       "      <td>08 Sep 2020</td>\n",
       "      <td>(SDK X) Cricket Mazza</td>\n",
       "      <td>Cricket Mazza Banner (AdX)</td>\n",
       "      <td>Unresolved</td>\n",
       "      <td>0.0</td>\n",
       "      <td>3932330</td>\n",
       "      <td>3926253</td>\n",
       "      <td>99.9</td>\n",
       "      <td>3849749</td>\n",
       "      <td>10199</td>\n",
       "      <td>0</td>\n",
       "      <td>98.1</td>\n",
       "    </tr>\n",
       "    <tr>\n",
       "      <th>1</th>\n",
       "      <td>08 Sep 2020</td>\n",
       "      <td>(SDK X) Cricket Mazza</td>\n",
       "      <td>320x50</td>\n",
       "      <td>Unresolved</td>\n",
       "      <td>0.0</td>\n",
       "      <td>3932330</td>\n",
       "      <td>119</td>\n",
       "      <td>99.9</td>\n",
       "      <td>118</td>\n",
       "      <td>2</td>\n",
       "      <td>2</td>\n",
       "      <td>99.2</td>\n",
       "    </tr>\n",
       "    <tr>\n",
       "      <th>2</th>\n",
       "      <td>08 Sep 2020</td>\n",
       "      <td>(SDK X) Cricket Mazza</td>\n",
       "      <td>Dream11_320x50</td>\n",
       "      <td>Unresolved</td>\n",
       "      <td>0.0</td>\n",
       "      <td>3932330</td>\n",
       "      <td>96</td>\n",
       "      <td>99.9</td>\n",
       "      <td>93</td>\n",
       "      <td>2</td>\n",
       "      <td>2</td>\n",
       "      <td>96.9</td>\n",
       "    </tr>\n",
       "    <tr>\n",
       "      <th>3</th>\n",
       "      <td>08 Sep 2020</td>\n",
       "      <td>(SDK X) Cricket Mazza</td>\n",
       "      <td>My11_320x50</td>\n",
       "      <td>Unresolved</td>\n",
       "      <td>0.0</td>\n",
       "      <td>3932330</td>\n",
       "      <td>111</td>\n",
       "      <td>99.9</td>\n",
       "      <td>110</td>\n",
       "      <td>2</td>\n",
       "      <td>2</td>\n",
       "      <td>99.1</td>\n",
       "    </tr>\n",
       "    <tr>\n",
       "      <th>4</th>\n",
       "      <td>06 Sep 2020</td>\n",
       "      <td>(SDK X) Cricket Mazza</td>\n",
       "      <td>Cricket Mazza Banner (AdX)</td>\n",
       "      <td>Unresolved</td>\n",
       "      <td>0.0</td>\n",
       "      <td>3839002</td>\n",
       "      <td>3834328</td>\n",
       "      <td>99.9</td>\n",
       "      <td>3785127</td>\n",
       "      <td>9492</td>\n",
       "      <td>0</td>\n",
       "      <td>98.7</td>\n",
       "    </tr>\n",
       "  </tbody>\n",
       "</table>\n",
       "</div>"
      ],
      "text/plain": [
       "          Date                     App                    Ad Group  \\\n",
       "0  08 Sep 2020  (SDK X) Cricket Mazza   Cricket Mazza Banner (AdX)   \n",
       "1  08 Sep 2020  (SDK X) Cricket Mazza                       320x50   \n",
       "2  08 Sep 2020  (SDK X) Cricket Mazza               Dream11_320x50   \n",
       "3  08 Sep 2020  (SDK X) Cricket Mazza                  My11_320x50   \n",
       "4  06 Sep 2020  (SDK X) Cricket Mazza   Cricket Mazza Banner (AdX)   \n",
       "\n",
       "        State  Revenue  Ad Requests  Ad Responses  Fill Rate  Impressions  \\\n",
       "0  Unresolved      0.0      3932330       3926253       99.9      3849749   \n",
       "1  Unresolved      0.0      3932330           119       99.9          118   \n",
       "2  Unresolved      0.0      3932330            96       99.9           93   \n",
       "3  Unresolved      0.0      3932330           111       99.9          110   \n",
       "4  Unresolved      0.0      3839002       3834328       99.9      3785127   \n",
       "\n",
       "   1st Clicks  2nd Clicks  RenderRate  \n",
       "0       10199           0        98.1  \n",
       "1           2           2        99.2  \n",
       "2           2           2        96.9  \n",
       "3           2           2        99.1  \n",
       "4        9492           0        98.7  "
      ]
     },
     "execution_count": 37,
     "metadata": {},
     "output_type": "execute_result"
    }
   ],
   "source": [
    "data.head()"
   ]
  },
  {
   "cell_type": "code",
   "execution_count": 38,
   "id": "e9ef4c66-9215-4b3a-9d36-4656693c8ce9",
   "metadata": {},
   "outputs": [
    {
     "data": {
      "text/html": [
       "<div>\n",
       "<style scoped>\n",
       "    .dataframe tbody tr th:only-of-type {\n",
       "        vertical-align: middle;\n",
       "    }\n",
       "\n",
       "    .dataframe tbody tr th {\n",
       "        vertical-align: top;\n",
       "    }\n",
       "\n",
       "    .dataframe thead th {\n",
       "        text-align: right;\n",
       "    }\n",
       "</style>\n",
       "<table border=\"1\" class=\"dataframe\">\n",
       "  <thead>\n",
       "    <tr style=\"text-align: right;\">\n",
       "      <th></th>\n",
       "      <th>Date</th>\n",
       "      <th>App</th>\n",
       "      <th>Ad Group</th>\n",
       "      <th>State</th>\n",
       "      <th>Revenue</th>\n",
       "      <th>Ad Requests</th>\n",
       "      <th>Ad Responses</th>\n",
       "      <th>Fill Rate</th>\n",
       "      <th>Impressions</th>\n",
       "      <th>1st Clicks</th>\n",
       "      <th>2nd Clicks</th>\n",
       "      <th>RenderRate</th>\n",
       "    </tr>\n",
       "  </thead>\n",
       "  <tbody>\n",
       "    <tr>\n",
       "      <th>48277</th>\n",
       "      <td>08 Sep 2020</td>\n",
       "      <td>SDK X Native Sample</td>\n",
       "      <td>SDK X Test Ads</td>\n",
       "      <td>Delhi</td>\n",
       "      <td>0.0</td>\n",
       "      <td>0</td>\n",
       "      <td>0</td>\n",
       "      <td>0.0</td>\n",
       "      <td>0</td>\n",
       "      <td>0</td>\n",
       "      <td>0</td>\n",
       "      <td>0.0</td>\n",
       "    </tr>\n",
       "    <tr>\n",
       "      <th>48278</th>\n",
       "      <td>08 Sep 2020</td>\n",
       "      <td>Shortpedia</td>\n",
       "      <td>SDK X Test Ads</td>\n",
       "      <td>Delhi</td>\n",
       "      <td>0.0</td>\n",
       "      <td>0</td>\n",
       "      <td>0</td>\n",
       "      <td>0.0</td>\n",
       "      <td>0</td>\n",
       "      <td>0</td>\n",
       "      <td>0</td>\n",
       "      <td>0.0</td>\n",
       "    </tr>\n",
       "    <tr>\n",
       "      <th>48279</th>\n",
       "      <td>08 Sep 2020</td>\n",
       "      <td>QA SDK X Sample Build</td>\n",
       "      <td>SDK X Test Ads 2</td>\n",
       "      <td>Kerala</td>\n",
       "      <td>0.0</td>\n",
       "      <td>0</td>\n",
       "      <td>0</td>\n",
       "      <td>0.0</td>\n",
       "      <td>0</td>\n",
       "      <td>0</td>\n",
       "      <td>0</td>\n",
       "      <td>0.0</td>\n",
       "    </tr>\n",
       "    <tr>\n",
       "      <th>48280</th>\n",
       "      <td>08 Sep 2020</td>\n",
       "      <td>QA SDK X Sample Build</td>\n",
       "      <td>SDK X Test Ads 2</td>\n",
       "      <td>Karnataka</td>\n",
       "      <td>0.0</td>\n",
       "      <td>0</td>\n",
       "      <td>0</td>\n",
       "      <td>0.0</td>\n",
       "      <td>0</td>\n",
       "      <td>0</td>\n",
       "      <td>0</td>\n",
       "      <td>0.0</td>\n",
       "    </tr>\n",
       "    <tr>\n",
       "      <th>48289</th>\n",
       "      <td>10 Sep 2020</td>\n",
       "      <td>SDK X Native Sample</td>\n",
       "      <td>SDK X Test Ads</td>\n",
       "      <td>Haryana</td>\n",
       "      <td>0.0</td>\n",
       "      <td>0</td>\n",
       "      <td>0</td>\n",
       "      <td>0.0</td>\n",
       "      <td>0</td>\n",
       "      <td>0</td>\n",
       "      <td>0</td>\n",
       "      <td>0.0</td>\n",
       "    </tr>\n",
       "  </tbody>\n",
       "</table>\n",
       "</div>"
      ],
      "text/plain": [
       "              Date                    App          Ad Group      State  \\\n",
       "48277  08 Sep 2020    SDK X Native Sample    SDK X Test Ads      Delhi   \n",
       "48278  08 Sep 2020             Shortpedia    SDK X Test Ads      Delhi   \n",
       "48279  08 Sep 2020  QA SDK X Sample Build  SDK X Test Ads 2     Kerala   \n",
       "48280  08 Sep 2020  QA SDK X Sample Build  SDK X Test Ads 2  Karnataka   \n",
       "48289  10 Sep 2020    SDK X Native Sample    SDK X Test Ads    Haryana   \n",
       "\n",
       "       Revenue  Ad Requests  Ad Responses  Fill Rate  Impressions  1st Clicks  \\\n",
       "48277      0.0            0             0        0.0            0           0   \n",
       "48278      0.0            0             0        0.0            0           0   \n",
       "48279      0.0            0             0        0.0            0           0   \n",
       "48280      0.0            0             0        0.0            0           0   \n",
       "48289      0.0            0             0        0.0            0           0   \n",
       "\n",
       "       2nd Clicks  RenderRate  \n",
       "48277           0         0.0  \n",
       "48278           0         0.0  \n",
       "48279           0         0.0  \n",
       "48280           0         0.0  \n",
       "48289           0         0.0  "
      ]
     },
     "execution_count": 38,
     "metadata": {},
     "output_type": "execute_result"
    }
   ],
   "source": [
    "data.tail()"
   ]
  },
  {
   "cell_type": "code",
   "execution_count": 39,
   "id": "35837e2c-7a00-4964-adc3-12da2c008c58",
   "metadata": {},
   "outputs": [
    {
     "data": {
      "text/plain": [
       "7"
      ]
     },
     "execution_count": 39,
     "metadata": {},
     "output_type": "execute_result"
    }
   ],
   "source": [
    "data[\"Date\"].nunique()"
   ]
  },
  {
   "cell_type": "markdown",
   "id": "1693fe0b-0b03-4b06-b7fe-1b77609f239f",
   "metadata": {},
   "source": [
    "Now we have our data in most suitable form and  less complex as compared to previous one. "
   ]
  },
  {
   "cell_type": "markdown",
   "id": "310106a5-7839-4192-a46a-ef5ec88d3691",
   "metadata": {},
   "source": [
    "We can also do the same splot fucntion with the Date column using pandas To_datetime function and can fetch values from there but as we are able to see that there is no such big difference between dates in the whole data and the whole data only contain only 7 unique values."
   ]
  },
  {
   "cell_type": "markdown",
   "id": "be00bcfe-e00b-44e8-856b-77dc73fca44f",
   "metadata": {},
   "source": [
    "But before that we will amke our data more simpler and easy to understand for machine learning.\n",
    "So we will change the datatype of all the columns from float to int to make our model more simpler."
   ]
  },
  {
   "cell_type": "code",
   "execution_count": 40,
   "id": "165309d1-8100-45cb-a2e5-f314c99cfecd",
   "metadata": {},
   "outputs": [],
   "source": [
    "data = data.astype({\"RenderRate\":'int', \"Fill Rate\":'int',\"Revenue\":'int'})"
   ]
  },
  {
   "cell_type": "code",
   "execution_count": 41,
   "id": "640d7488-a8ee-4635-abc3-d12d15a78313",
   "metadata": {},
   "outputs": [
    {
     "data": {
      "text/html": [
       "<div>\n",
       "<style scoped>\n",
       "    .dataframe tbody tr th:only-of-type {\n",
       "        vertical-align: middle;\n",
       "    }\n",
       "\n",
       "    .dataframe tbody tr th {\n",
       "        vertical-align: top;\n",
       "    }\n",
       "\n",
       "    .dataframe thead th {\n",
       "        text-align: right;\n",
       "    }\n",
       "</style>\n",
       "<table border=\"1\" class=\"dataframe\">\n",
       "  <thead>\n",
       "    <tr style=\"text-align: right;\">\n",
       "      <th></th>\n",
       "      <th>Date</th>\n",
       "      <th>App</th>\n",
       "      <th>Ad Group</th>\n",
       "      <th>State</th>\n",
       "      <th>Revenue</th>\n",
       "      <th>Ad Requests</th>\n",
       "      <th>Ad Responses</th>\n",
       "      <th>Fill Rate</th>\n",
       "      <th>Impressions</th>\n",
       "      <th>1st Clicks</th>\n",
       "      <th>2nd Clicks</th>\n",
       "      <th>RenderRate</th>\n",
       "    </tr>\n",
       "  </thead>\n",
       "  <tbody>\n",
       "    <tr>\n",
       "      <th>0</th>\n",
       "      <td>08 Sep 2020</td>\n",
       "      <td>(SDK X) Cricket Mazza</td>\n",
       "      <td>Cricket Mazza Banner (AdX)</td>\n",
       "      <td>Unresolved</td>\n",
       "      <td>0</td>\n",
       "      <td>3932330</td>\n",
       "      <td>3926253</td>\n",
       "      <td>99</td>\n",
       "      <td>3849749</td>\n",
       "      <td>10199</td>\n",
       "      <td>0</td>\n",
       "      <td>98</td>\n",
       "    </tr>\n",
       "    <tr>\n",
       "      <th>1</th>\n",
       "      <td>08 Sep 2020</td>\n",
       "      <td>(SDK X) Cricket Mazza</td>\n",
       "      <td>320x50</td>\n",
       "      <td>Unresolved</td>\n",
       "      <td>0</td>\n",
       "      <td>3932330</td>\n",
       "      <td>119</td>\n",
       "      <td>99</td>\n",
       "      <td>118</td>\n",
       "      <td>2</td>\n",
       "      <td>2</td>\n",
       "      <td>99</td>\n",
       "    </tr>\n",
       "    <tr>\n",
       "      <th>2</th>\n",
       "      <td>08 Sep 2020</td>\n",
       "      <td>(SDK X) Cricket Mazza</td>\n",
       "      <td>Dream11_320x50</td>\n",
       "      <td>Unresolved</td>\n",
       "      <td>0</td>\n",
       "      <td>3932330</td>\n",
       "      <td>96</td>\n",
       "      <td>99</td>\n",
       "      <td>93</td>\n",
       "      <td>2</td>\n",
       "      <td>2</td>\n",
       "      <td>96</td>\n",
       "    </tr>\n",
       "    <tr>\n",
       "      <th>3</th>\n",
       "      <td>08 Sep 2020</td>\n",
       "      <td>(SDK X) Cricket Mazza</td>\n",
       "      <td>My11_320x50</td>\n",
       "      <td>Unresolved</td>\n",
       "      <td>0</td>\n",
       "      <td>3932330</td>\n",
       "      <td>111</td>\n",
       "      <td>99</td>\n",
       "      <td>110</td>\n",
       "      <td>2</td>\n",
       "      <td>2</td>\n",
       "      <td>99</td>\n",
       "    </tr>\n",
       "    <tr>\n",
       "      <th>4</th>\n",
       "      <td>06 Sep 2020</td>\n",
       "      <td>(SDK X) Cricket Mazza</td>\n",
       "      <td>Cricket Mazza Banner (AdX)</td>\n",
       "      <td>Unresolved</td>\n",
       "      <td>0</td>\n",
       "      <td>3839002</td>\n",
       "      <td>3834328</td>\n",
       "      <td>99</td>\n",
       "      <td>3785127</td>\n",
       "      <td>9492</td>\n",
       "      <td>0</td>\n",
       "      <td>98</td>\n",
       "    </tr>\n",
       "  </tbody>\n",
       "</table>\n",
       "</div>"
      ],
      "text/plain": [
       "          Date                     App                    Ad Group  \\\n",
       "0  08 Sep 2020  (SDK X) Cricket Mazza   Cricket Mazza Banner (AdX)   \n",
       "1  08 Sep 2020  (SDK X) Cricket Mazza                       320x50   \n",
       "2  08 Sep 2020  (SDK X) Cricket Mazza               Dream11_320x50   \n",
       "3  08 Sep 2020  (SDK X) Cricket Mazza                  My11_320x50   \n",
       "4  06 Sep 2020  (SDK X) Cricket Mazza   Cricket Mazza Banner (AdX)   \n",
       "\n",
       "        State  Revenue  Ad Requests  Ad Responses  Fill Rate  Impressions  \\\n",
       "0  Unresolved        0      3932330       3926253         99      3849749   \n",
       "1  Unresolved        0      3932330           119         99          118   \n",
       "2  Unresolved        0      3932330            96         99           93   \n",
       "3  Unresolved        0      3932330           111         99          110   \n",
       "4  Unresolved        0      3839002       3834328         99      3785127   \n",
       "\n",
       "   1st Clicks  2nd Clicks  RenderRate  \n",
       "0       10199           0          98  \n",
       "1           2           2          99  \n",
       "2           2           2          96  \n",
       "3           2           2          99  \n",
       "4        9492           0          98  "
      ]
     },
     "execution_count": 41,
     "metadata": {},
     "output_type": "execute_result"
    }
   ],
   "source": [
    "data.head()"
   ]
  },
  {
   "cell_type": "markdown",
   "id": "09dfdcac-5afb-4558-8be0-6f7eb67299da",
   "metadata": {},
   "source": [
    "Now we will try to predict the relation between Revenue column and other columns of our data."
   ]
  },
  {
   "cell_type": "markdown",
   "id": "73e0ca0a-db33-4297-90cf-0597e7838655",
   "metadata": {},
   "source": [
    "By preceeding Further we will find the correlation between our columns and then we will plot the graph chart of those columns."
   ]
  },
  {
   "cell_type": "code",
   "execution_count": 42,
   "id": "d00ced1a-e52a-4fdc-8ce2-414d2135f929",
   "metadata": {},
   "outputs": [
    {
     "data": {
      "text/plain": [
       "<AxesSubplot:>"
      ]
     },
     "execution_count": 42,
     "metadata": {},
     "output_type": "execute_result"
    },
    {
     "data": {
      "image/png": "[encoded data removed]",
      "text/plain": [
       "<Figure size 1080x576 with 2 Axes>"
      ]
     },
     "metadata": {
      "needs_background": "light"
     },
     "output_type": "display_data"
    }
   ],
   "source": [
    "plt.figure(figsize=(15,8))\n",
    "sb.heatmap(data.corr(),linecolor=\"white\",annot = True, cmap = 'viridis')"
   ]
  },
  {
   "cell_type": "code",
   "execution_count": 43,
   "id": "6fe55f63-99db-4543-b4ec-45a1deac365f",
   "metadata": {},
   "outputs": [
    {
     "data": {
      "text/plain": [
       "<AxesSubplot:xlabel='Revenue', ylabel='2nd Clicks'>"
      ]
     },
     "execution_count": 43,
     "metadata": {},
     "output_type": "execute_result"
    },
    {
     "data": {
      "image/png": "[encoded data removed]",
      "text/plain": [
       "<Figure size 432x288 with 1 Axes>"
      ]
     },
     "metadata": {
      "needs_background": "light"
     },
     "output_type": "display_data"
    }
   ],
   "source": [
    "sb.barplot(x = data['Revenue'], y = data['2nd Clicks'])"
   ]
  },
  {
   "cell_type": "code",
   "execution_count": 54,
   "id": "ab4cde00-5ee5-472e-be4c-0c9299e719bf",
   "metadata": {},
   "outputs": [
    {
     "data": {
      "text/plain": [
       "<AxesSubplot:xlabel='Revenue', ylabel='1st Clicks'>"
      ]
     },
     "execution_count": 54,
     "metadata": {},
     "output_type": "execute_result"
    },
    {
     "data": {
      "image/png": "[encoded data removed]",
      "text/plain": [
       "<Figure size 432x288 with 1 Axes>"
      ]
     },
     "metadata": {
      "needs_background": "light"
     },
     "output_type": "display_data"
    }
   ],
   "source": [
    "sb.barplot(x=data['Revenue'],y=data['1st Clicks'],data=data)"
   ]
  },
  {
   "cell_type": "code",
   "execution_count": 53,
   "id": "bb2c7a86-e216-45ce-9e5b-37367847ce5f",
   "metadata": {},
   "outputs": [
    {
     "data": {
      "text/plain": [
       "<AxesSubplot:xlabel='Revenue', ylabel='Ad Responses'>"
      ]
     },
     "execution_count": 53,
     "metadata": {},
     "output_type": "execute_result"
    },
    {
     "data": {
      "image/png": "[encoded data removed]",
      "text/plain": [
       "<Figure size 432x288 with 1 Axes>"
      ]
     },
     "metadata": {
      "needs_background": "light"
     },
     "output_type": "display_data"
    }
   ],
   "source": [
    "sb.barplot(x=data['Revenue'],y=data['Ad Responses'],data=data)"
   ]
  },
  {
   "cell_type": "code",
   "execution_count": 56,
   "id": "7099e06e-726d-4f6d-9136-a9931bd251c7",
   "metadata": {},
   "outputs": [
    {
     "data": {
      "text/plain": [
       "<seaborn.matrix.ClusterGrid at 0x1fcba6aabb0>"
      ]
     },
     "execution_count": 56,
     "metadata": {},
     "output_type": "execute_result"
    },
    {
     "data": {
      "image/png": "[encoded data removed]",
      "text/plain": [
       "<Figure size 720x720 with 4 Axes>"
      ]
     },
     "metadata": {
      "needs_background": "light"
     },
     "output_type": "display_data"
    }
   ],
   "source": [
    "sb.clustermap(data.corr(), annot=True,cmap='viridis')"
   ]
  },
  {
   "cell_type": "code",
   "execution_count": 57,
   "id": "b0fcf0e1-79ed-4084-abeb-6239f35bb577",
   "metadata": {},
   "outputs": [
    {
     "data": {
      "text/plain": [
       "<AxesSubplot:xlabel='Revenue', ylabel='Ad Requests'>"
      ]
     },
     "execution_count": 57,
     "metadata": {},
     "output_type": "execute_result"
    },
    {
     "data": {
      "image/png": "[encoded data removed]",
      "text/plain": [
       "<Figure size 432x288 with 1 Axes>"
      ]
     },
     "metadata": {
      "needs_background": "light"
     },
     "output_type": "display_data"
    }
   ],
   "source": [
    "sb.barplot(x=data['Revenue'],y=data['Ad Requests'],data=data)"
   ]
  },
  {
   "cell_type": "code",
   "execution_count": 58,
   "id": "ef25fe14-3519-410c-a438-6364adc85c9e",
   "metadata": {},
   "outputs": [
    {
     "data": {
      "text/html": [
       "<div>\n",
       "<style scoped>\n",
       "    .dataframe tbody tr th:only-of-type {\n",
       "        vertical-align: middle;\n",
       "    }\n",
       "\n",
       "    .dataframe tbody tr th {\n",
       "        vertical-align: top;\n",
       "    }\n",
       "\n",
       "    .dataframe thead th {\n",
       "        text-align: right;\n",
       "    }\n",
       "</style>\n",
       "<table border=\"1\" class=\"dataframe\">\n",
       "  <thead>\n",
       "    <tr style=\"text-align: right;\">\n",
       "      <th></th>\n",
       "      <th>Date</th>\n",
       "      <th>App</th>\n",
       "      <th>Ad Group</th>\n",
       "      <th>State</th>\n",
       "      <th>Revenue</th>\n",
       "      <th>Ad Requests</th>\n",
       "      <th>Ad Responses</th>\n",
       "      <th>Fill Rate</th>\n",
       "      <th>Impressions</th>\n",
       "      <th>1st Clicks</th>\n",
       "      <th>2nd Clicks</th>\n",
       "      <th>RenderRate</th>\n",
       "    </tr>\n",
       "  </thead>\n",
       "  <tbody>\n",
       "    <tr>\n",
       "      <th>0</th>\n",
       "      <td>08 Sep 2020</td>\n",
       "      <td>(SDK X) Cricket Mazza</td>\n",
       "      <td>Cricket Mazza Banner (AdX)</td>\n",
       "      <td>Unresolved</td>\n",
       "      <td>0</td>\n",
       "      <td>3932330</td>\n",
       "      <td>3926253</td>\n",
       "      <td>99</td>\n",
       "      <td>3849749</td>\n",
       "      <td>10199</td>\n",
       "      <td>0</td>\n",
       "      <td>98</td>\n",
       "    </tr>\n",
       "    <tr>\n",
       "      <th>1</th>\n",
       "      <td>08 Sep 2020</td>\n",
       "      <td>(SDK X) Cricket Mazza</td>\n",
       "      <td>320x50</td>\n",
       "      <td>Unresolved</td>\n",
       "      <td>0</td>\n",
       "      <td>3932330</td>\n",
       "      <td>119</td>\n",
       "      <td>99</td>\n",
       "      <td>118</td>\n",
       "      <td>2</td>\n",
       "      <td>2</td>\n",
       "      <td>99</td>\n",
       "    </tr>\n",
       "    <tr>\n",
       "      <th>2</th>\n",
       "      <td>08 Sep 2020</td>\n",
       "      <td>(SDK X) Cricket Mazza</td>\n",
       "      <td>Dream11_320x50</td>\n",
       "      <td>Unresolved</td>\n",
       "      <td>0</td>\n",
       "      <td>3932330</td>\n",
       "      <td>96</td>\n",
       "      <td>99</td>\n",
       "      <td>93</td>\n",
       "      <td>2</td>\n",
       "      <td>2</td>\n",
       "      <td>96</td>\n",
       "    </tr>\n",
       "    <tr>\n",
       "      <th>3</th>\n",
       "      <td>08 Sep 2020</td>\n",
       "      <td>(SDK X) Cricket Mazza</td>\n",
       "      <td>My11_320x50</td>\n",
       "      <td>Unresolved</td>\n",
       "      <td>0</td>\n",
       "      <td>3932330</td>\n",
       "      <td>111</td>\n",
       "      <td>99</td>\n",
       "      <td>110</td>\n",
       "      <td>2</td>\n",
       "      <td>2</td>\n",
       "      <td>99</td>\n",
       "    </tr>\n",
       "    <tr>\n",
       "      <th>4</th>\n",
       "      <td>06 Sep 2020</td>\n",
       "      <td>(SDK X) Cricket Mazza</td>\n",
       "      <td>Cricket Mazza Banner (AdX)</td>\n",
       "      <td>Unresolved</td>\n",
       "      <td>0</td>\n",
       "      <td>3839002</td>\n",
       "      <td>3834328</td>\n",
       "      <td>99</td>\n",
       "      <td>3785127</td>\n",
       "      <td>9492</td>\n",
       "      <td>0</td>\n",
       "      <td>98</td>\n",
       "    </tr>\n",
       "  </tbody>\n",
       "</table>\n",
       "</div>"
      ],
      "text/plain": [
       "          Date                     App                    Ad Group  \\\n",
       "0  08 Sep 2020  (SDK X) Cricket Mazza   Cricket Mazza Banner (AdX)   \n",
       "1  08 Sep 2020  (SDK X) Cricket Mazza                       320x50   \n",
       "2  08 Sep 2020  (SDK X) Cricket Mazza               Dream11_320x50   \n",
       "3  08 Sep 2020  (SDK X) Cricket Mazza                  My11_320x50   \n",
       "4  06 Sep 2020  (SDK X) Cricket Mazza   Cricket Mazza Banner (AdX)   \n",
       "\n",
       "        State  Revenue  Ad Requests  Ad Responses  Fill Rate  Impressions  \\\n",
       "0  Unresolved        0      3932330       3926253         99      3849749   \n",
       "1  Unresolved        0      3932330           119         99          118   \n",
       "2  Unresolved        0      3932330            96         99           93   \n",
       "3  Unresolved        0      3932330           111         99          110   \n",
       "4  Unresolved        0      3839002       3834328         99      3785127   \n",
       "\n",
       "   1st Clicks  2nd Clicks  RenderRate  \n",
       "0       10199           0          98  \n",
       "1           2           2          99  \n",
       "2           2           2          96  \n",
       "3           2           2          99  \n",
       "4        9492           0          98  "
      ]
     },
     "execution_count": 58,
     "metadata": {},
     "output_type": "execute_result"
    }
   ],
   "source": [
    "data.head()"
   ]
  },
  {
   "cell_type": "code",
   "execution_count": 60,
   "id": "285a01b8-127a-4fdf-b603-bc34d1fe3f87",
   "metadata": {},
   "outputs": [
    {
     "data": {
      "text/plain": [
       "Callbreak Multiplayer             3776\n",
       "World Cricket Championship 2      3270\n",
       "Bottle Shooting Game              2320\n",
       "World Cricket Championship  Lt    1858\n",
       "Indian Rummy Offline              1614\n",
       "                                  ... \n",
       "Robot Ninja Battle Royale            2\n",
       "Hitwicket - Own a Cricket Team       2\n",
       "39052237                             2\n",
       "OCR Barcod Scanner                   1\n",
       "Blackboard Edutech                   1\n",
       "Name: App, Length: 116, dtype: int64"
      ]
     },
     "execution_count": 60,
     "metadata": {},
     "output_type": "execute_result"
    }
   ],
   "source": [
    "data[\"App\"].value_counts()"
   ]
  },
  {
   "cell_type": "code",
   "execution_count": 63,
   "id": "2de068d4-8cab-445e-8751-1aa4cc311a58",
   "metadata": {},
   "outputs": [
    {
     "data": {
      "text/plain": [
       "116"
      ]
     },
     "execution_count": 63,
     "metadata": {},
     "output_type": "execute_result"
    }
   ],
   "source": [
    "data[\"App\"].nunique()"
   ]
  },
  {
   "cell_type": "code",
   "execution_count": 64,
   "id": "6174a741-b4ee-4b89-a5c9-52c36d2a28ca",
   "metadata": {},
   "outputs": [
    {
     "data": {
      "text/plain": [
       "188"
      ]
     },
     "execution_count": 64,
     "metadata": {},
     "output_type": "execute_result"
    }
   ],
   "source": [
    "data[\"Ad Group\"].nunique()"
   ]
  },
  {
   "cell_type": "code",
   "execution_count": 65,
   "id": "649f8390-5fa6-4609-a9f9-761401e4c986",
   "metadata": {},
   "outputs": [
    {
     "data": {
      "text/plain": [
       "revshare                                      6123\n",
       "Dhani Backfill                                3538\n",
       "Rooter_All apps                               3180\n",
       "MY11Circle_IN_SG_1500                         1560\n",
       "IPL banner                                    1543\n",
       "                                              ... \n",
       "Sachin Saga_Admob_GG                             1\n",
       "QA SDK X Sample Build_Debug_Test AdGroup 2       1\n",
       "OCR Barcod Scanner_Admob                         1\n",
       "Blackboard Edutech_Admob                         1\n",
       "Sachin Saga_Admob_iOS                            1\n",
       "Name: Ad Group, Length: 188, dtype: int64"
      ]
     },
     "execution_count": 65,
     "metadata": {},
     "output_type": "execute_result"
    }
   ],
   "source": [
    "data[\"Ad Group\"].value_counts()"
   ]
  },
  {
   "cell_type": "code",
   "execution_count": 107,
   "id": "4aeac120-7578-4885-8171-a2883b183c2a",
   "metadata": {},
   "outputs": [],
   "source": [
    "from sklearn.preprocessing import LabelEncoder,StandardScaler\n",
    "le=LabelEncoder()\n",
    "data['Ad Group']=le.fit_transform(data['Ad Group'])"
   ]
  },
  {
   "cell_type": "code",
   "execution_count": 108,
   "id": "e1603be5-a752-4dcc-8c85-f86a112a997d",
   "metadata": {},
   "outputs": [
    {
     "data": {
      "text/html": [
       "<div>\n",
       "<style scoped>\n",
       "    .dataframe tbody tr th:only-of-type {\n",
       "        vertical-align: middle;\n",
       "    }\n",
       "\n",
       "    .dataframe tbody tr th {\n",
       "        vertical-align: top;\n",
       "    }\n",
       "\n",
       "    .dataframe thead th {\n",
       "        text-align: right;\n",
       "    }\n",
       "</style>\n",
       "<table border=\"1\" class=\"dataframe\">\n",
       "  <thead>\n",
       "    <tr style=\"text-align: right;\">\n",
       "      <th></th>\n",
       "      <th>Date</th>\n",
       "      <th>App</th>\n",
       "      <th>Ad Group</th>\n",
       "      <th>State</th>\n",
       "      <th>Revenue</th>\n",
       "      <th>Ad Requests</th>\n",
       "      <th>Ad Responses</th>\n",
       "      <th>Fill Rate</th>\n",
       "      <th>Impressions</th>\n",
       "      <th>Render Rate</th>\n",
       "      <th>1st Clicks</th>\n",
       "      <th>2nd Clicks</th>\n",
       "    </tr>\n",
       "  </thead>\n",
       "  <tbody>\n",
       "    <tr>\n",
       "      <th>0</th>\n",
       "      <td>08 Sep 2020</td>\n",
       "      <td>(SDK X) Cricket Mazza</td>\n",
       "      <td>44</td>\n",
       "      <td>Unresolved</td>\n",
       "      <td>0.0</td>\n",
       "      <td>3932330</td>\n",
       "      <td>3926253</td>\n",
       "      <td>99.9%</td>\n",
       "      <td>3849749</td>\n",
       "      <td>98.1%</td>\n",
       "      <td>10199</td>\n",
       "      <td>0</td>\n",
       "    </tr>\n",
       "    <tr>\n",
       "      <th>1</th>\n",
       "      <td>08 Sep 2020</td>\n",
       "      <td>(SDK X) Cricket Mazza</td>\n",
       "      <td>1</td>\n",
       "      <td>Unresolved</td>\n",
       "      <td>0.0</td>\n",
       "      <td>3932330</td>\n",
       "      <td>119</td>\n",
       "      <td>99.9%</td>\n",
       "      <td>118</td>\n",
       "      <td>99.2%</td>\n",
       "      <td>2</td>\n",
       "      <td>2</td>\n",
       "    </tr>\n",
       "    <tr>\n",
       "      <th>2</th>\n",
       "      <td>08 Sep 2020</td>\n",
       "      <td>(SDK X) Cricket Mazza</td>\n",
       "      <td>55</td>\n",
       "      <td>Unresolved</td>\n",
       "      <td>0.0</td>\n",
       "      <td>3932330</td>\n",
       "      <td>96</td>\n",
       "      <td>99.9%</td>\n",
       "      <td>93</td>\n",
       "      <td>96.9%</td>\n",
       "      <td>2</td>\n",
       "      <td>2</td>\n",
       "    </tr>\n",
       "    <tr>\n",
       "      <th>3</th>\n",
       "      <td>08 Sep 2020</td>\n",
       "      <td>(SDK X) Cricket Mazza</td>\n",
       "      <td>92</td>\n",
       "      <td>Unresolved</td>\n",
       "      <td>0.0</td>\n",
       "      <td>3932330</td>\n",
       "      <td>111</td>\n",
       "      <td>99.9%</td>\n",
       "      <td>110</td>\n",
       "      <td>99.1%</td>\n",
       "      <td>2</td>\n",
       "      <td>2</td>\n",
       "    </tr>\n",
       "    <tr>\n",
       "      <th>4</th>\n",
       "      <td>06 Sep 2020</td>\n",
       "      <td>(SDK X) Cricket Mazza</td>\n",
       "      <td>44</td>\n",
       "      <td>Unresolved</td>\n",
       "      <td>0.0</td>\n",
       "      <td>3839002</td>\n",
       "      <td>3834328</td>\n",
       "      <td>99.9%</td>\n",
       "      <td>3785127</td>\n",
       "      <td>98.7%</td>\n",
       "      <td>9492</td>\n",
       "      <td>0</td>\n",
       "    </tr>\n",
       "  </tbody>\n",
       "</table>\n",
       "</div>"
      ],
      "text/plain": [
       "          Date                     App  Ad Group       State  Revenue  \\\n",
       "0  08 Sep 2020  (SDK X) Cricket Mazza         44  Unresolved      0.0   \n",
       "1  08 Sep 2020  (SDK X) Cricket Mazza          1  Unresolved      0.0   \n",
       "2  08 Sep 2020  (SDK X) Cricket Mazza         55  Unresolved      0.0   \n",
       "3  08 Sep 2020  (SDK X) Cricket Mazza         92  Unresolved      0.0   \n",
       "4  06 Sep 2020  (SDK X) Cricket Mazza         44  Unresolved      0.0   \n",
       "\n",
       "   Ad Requests  Ad Responses Fill Rate  Impressions Render Rate  1st Clicks  \\\n",
       "0      3932330       3926253     99.9%      3849749       98.1%       10199   \n",
       "1      3932330           119     99.9%          118       99.2%           2   \n",
       "2      3932330            96     99.9%           93       96.9%           2   \n",
       "3      3932330           111     99.9%          110       99.1%           2   \n",
       "4      3839002       3834328     99.9%      3785127       98.7%        9492   \n",
       "\n",
       "   2nd Clicks  \n",
       "0           0  \n",
       "1           2  \n",
       "2           2  \n",
       "3           2  \n",
       "4           0  "
      ]
     },
     "execution_count": 108,
     "metadata": {},
     "output_type": "execute_result"
    }
   ],
   "source": [
    "data.head()"
   ]
  },
  {
   "cell_type": "code",
   "execution_count": 74,
   "id": "5fbd22cd-dd87-4141-a794-e5ac0e9b74d6",
   "metadata": {},
   "outputs": [
    {
     "data": {
      "text/plain": [
       "<AxesSubplot:xlabel='Ad Group', ylabel='App'>"
      ]
     },
     "execution_count": 74,
     "metadata": {},
     "output_type": "execute_result"
    },
    {
     "name": "stderr",
     "output_type": "stream",
     "text": [
      "C:\\Users\\91967\\Anaconda3\\lib\\site-packages\\matplotlib\\backends\\backend_agg.py:240: RuntimeWarning: Glyph 2476 missing from current font.\n",
      "  font.set_text(s, 0.0, flags=flags)\n",
      "C:\\Users\\91967\\Anaconda3\\lib\\site-packages\\matplotlib\\backends\\backend_agg.py:240: RuntimeWarning: Glyph 2494 missing from current font.\n",
      "  font.set_text(s, 0.0, flags=flags)\n",
      "C:\\Users\\91967\\Anaconda3\\lib\\site-packages\\matplotlib\\backends\\backend_agg.py:240: RuntimeWarning: Glyph 2434 missing from current font.\n",
      "  font.set_text(s, 0.0, flags=flags)\n",
      "C:\\Users\\91967\\Anaconda3\\lib\\site-packages\\matplotlib\\backends\\backend_agg.py:240: RuntimeWarning: Glyph 2482 missing from current font.\n",
      "  font.set_text(s, 0.0, flags=flags)\n",
      "C:\\Users\\91967\\Anaconda3\\lib\\site-packages\\matplotlib\\backends\\backend_agg.py:240: RuntimeWarning: Glyph 2474 missing from current font.\n",
      "  font.set_text(s, 0.0, flags=flags)\n",
      "C:\\Users\\91967\\Anaconda3\\lib\\site-packages\\matplotlib\\backends\\backend_agg.py:240: RuntimeWarning: Glyph 2462 missing from current font.\n",
      "  font.set_text(s, 0.0, flags=flags)\n",
      "C:\\Users\\91967\\Anaconda3\\lib\\site-packages\\matplotlib\\backends\\backend_agg.py:240: RuntimeWarning: Glyph 2509 missing from current font.\n",
      "  font.set_text(s, 0.0, flags=flags)\n",
      "C:\\Users\\91967\\Anaconda3\\lib\\site-packages\\matplotlib\\backends\\backend_agg.py:240: RuntimeWarning: Glyph 2460 missing from current font.\n",
      "  font.set_text(s, 0.0, flags=flags)\n",
      "C:\\Users\\91967\\Anaconda3\\lib\\site-packages\\matplotlib\\backends\\backend_agg.py:240: RuntimeWarning: Glyph 2495 missing from current font.\n",
      "  font.set_text(s, 0.0, flags=flags)\n",
      "C:\\Users\\91967\\Anaconda3\\lib\\site-packages\\matplotlib\\backends\\backend_agg.py:240: RuntimeWarning: Glyph 2453 missing from current font.\n",
      "  font.set_text(s, 0.0, flags=flags)\n",
      "C:\\Users\\91967\\Anaconda3\\lib\\site-packages\\matplotlib\\backends\\backend_agg.py:203: RuntimeWarning: Glyph 2476 missing from current font.\n",
      "  font.set_text(s, 0, flags=flags)\n",
      "C:\\Users\\91967\\Anaconda3\\lib\\site-packages\\matplotlib\\backends\\backend_agg.py:203: RuntimeWarning: Glyph 2494 missing from current font.\n",
      "  font.set_text(s, 0, flags=flags)\n",
      "C:\\Users\\91967\\Anaconda3\\lib\\site-packages\\matplotlib\\backends\\backend_agg.py:203: RuntimeWarning: Glyph 2434 missing from current font.\n",
      "  font.set_text(s, 0, flags=flags)\n",
      "C:\\Users\\91967\\Anaconda3\\lib\\site-packages\\matplotlib\\backends\\backend_agg.py:203: RuntimeWarning: Glyph 2482 missing from current font.\n",
      "  font.set_text(s, 0, flags=flags)\n",
      "C:\\Users\\91967\\Anaconda3\\lib\\site-packages\\matplotlib\\backends\\backend_agg.py:203: RuntimeWarning: Glyph 2474 missing from current font.\n",
      "  font.set_text(s, 0, flags=flags)\n",
      "C:\\Users\\91967\\Anaconda3\\lib\\site-packages\\matplotlib\\backends\\backend_agg.py:203: RuntimeWarning: Glyph 2462 missing from current font.\n",
      "  font.set_text(s, 0, flags=flags)\n",
      "C:\\Users\\91967\\Anaconda3\\lib\\site-packages\\matplotlib\\backends\\backend_agg.py:203: RuntimeWarning: Glyph 2509 missing from current font.\n",
      "  font.set_text(s, 0, flags=flags)\n",
      "C:\\Users\\91967\\Anaconda3\\lib\\site-packages\\matplotlib\\backends\\backend_agg.py:203: RuntimeWarning: Glyph 2460 missing from current font.\n",
      "  font.set_text(s, 0, flags=flags)\n",
      "C:\\Users\\91967\\Anaconda3\\lib\\site-packages\\matplotlib\\backends\\backend_agg.py:203: RuntimeWarning: Glyph 2495 missing from current font.\n",
      "  font.set_text(s, 0, flags=flags)\n",
      "C:\\Users\\91967\\Anaconda3\\lib\\site-packages\\matplotlib\\backends\\backend_agg.py:203: RuntimeWarning: Glyph 2453 missing from current font.\n",
      "  font.set_text(s, 0, flags=flags)\n"
     ]
    },
    {
     "data": {
      "image/png": "[encoded data removed]",
      "text/plain": [
       "<Figure size 1080x576 with 1 Axes>"
      ]
     },
     "metadata": {
      "needs_background": "light"
     },
     "output_type": "display_data"
    }
   ],
   "source": [
    "plt.figure(figsize=(15,8))\n",
    "sb.stripplot(y = data['App'], x = data['Ad Group'])"
   ]
  },
  {
   "cell_type": "code",
   "execution_count": 109,
   "id": "fbd1835b-be8c-448a-9459-f5bbd4ca3b0b",
   "metadata": {},
   "outputs": [],
   "source": [
    "from sklearn.preprocessing import LabelEncoder,StandardScaler\n",
    "le1=LabelEncoder()\n",
    "data['App']=le1.fit_transform(data['App'])"
   ]
  },
  {
   "cell_type": "code",
   "execution_count": 110,
   "id": "2acb78fc-1cfd-4b4e-9472-b5865ab7b699",
   "metadata": {},
   "outputs": [
    {
     "data": {
      "text/html": [
       "<div>\n",
       "<style scoped>\n",
       "    .dataframe tbody tr th:only-of-type {\n",
       "        vertical-align: middle;\n",
       "    }\n",
       "\n",
       "    .dataframe tbody tr th {\n",
       "        vertical-align: top;\n",
       "    }\n",
       "\n",
       "    .dataframe thead th {\n",
       "        text-align: right;\n",
       "    }\n",
       "</style>\n",
       "<table border=\"1\" class=\"dataframe\">\n",
       "  <thead>\n",
       "    <tr style=\"text-align: right;\">\n",
       "      <th></th>\n",
       "      <th>Date</th>\n",
       "      <th>App</th>\n",
       "      <th>Ad Group</th>\n",
       "      <th>State</th>\n",
       "      <th>Revenue</th>\n",
       "      <th>Ad Requests</th>\n",
       "      <th>Ad Responses</th>\n",
       "      <th>Fill Rate</th>\n",
       "      <th>Impressions</th>\n",
       "      <th>Render Rate</th>\n",
       "      <th>1st Clicks</th>\n",
       "      <th>2nd Clicks</th>\n",
       "    </tr>\n",
       "  </thead>\n",
       "  <tbody>\n",
       "    <tr>\n",
       "      <th>0</th>\n",
       "      <td>08 Sep 2020</td>\n",
       "      <td>0</td>\n",
       "      <td>44</td>\n",
       "      <td>Unresolved</td>\n",
       "      <td>0.0</td>\n",
       "      <td>3932330</td>\n",
       "      <td>3926253</td>\n",
       "      <td>99.9%</td>\n",
       "      <td>3849749</td>\n",
       "      <td>98.1%</td>\n",
       "      <td>10199</td>\n",
       "      <td>0</td>\n",
       "    </tr>\n",
       "    <tr>\n",
       "      <th>1</th>\n",
       "      <td>08 Sep 2020</td>\n",
       "      <td>0</td>\n",
       "      <td>1</td>\n",
       "      <td>Unresolved</td>\n",
       "      <td>0.0</td>\n",
       "      <td>3932330</td>\n",
       "      <td>119</td>\n",
       "      <td>99.9%</td>\n",
       "      <td>118</td>\n",
       "      <td>99.2%</td>\n",
       "      <td>2</td>\n",
       "      <td>2</td>\n",
       "    </tr>\n",
       "    <tr>\n",
       "      <th>2</th>\n",
       "      <td>08 Sep 2020</td>\n",
       "      <td>0</td>\n",
       "      <td>55</td>\n",
       "      <td>Unresolved</td>\n",
       "      <td>0.0</td>\n",
       "      <td>3932330</td>\n",
       "      <td>96</td>\n",
       "      <td>99.9%</td>\n",
       "      <td>93</td>\n",
       "      <td>96.9%</td>\n",
       "      <td>2</td>\n",
       "      <td>2</td>\n",
       "    </tr>\n",
       "    <tr>\n",
       "      <th>3</th>\n",
       "      <td>08 Sep 2020</td>\n",
       "      <td>0</td>\n",
       "      <td>92</td>\n",
       "      <td>Unresolved</td>\n",
       "      <td>0.0</td>\n",
       "      <td>3932330</td>\n",
       "      <td>111</td>\n",
       "      <td>99.9%</td>\n",
       "      <td>110</td>\n",
       "      <td>99.1%</td>\n",
       "      <td>2</td>\n",
       "      <td>2</td>\n",
       "    </tr>\n",
       "    <tr>\n",
       "      <th>4</th>\n",
       "      <td>06 Sep 2020</td>\n",
       "      <td>0</td>\n",
       "      <td>44</td>\n",
       "      <td>Unresolved</td>\n",
       "      <td>0.0</td>\n",
       "      <td>3839002</td>\n",
       "      <td>3834328</td>\n",
       "      <td>99.9%</td>\n",
       "      <td>3785127</td>\n",
       "      <td>98.7%</td>\n",
       "      <td>9492</td>\n",
       "      <td>0</td>\n",
       "    </tr>\n",
       "  </tbody>\n",
       "</table>\n",
       "</div>"
      ],
      "text/plain": [
       "          Date  App  Ad Group       State  Revenue  Ad Requests  Ad Responses  \\\n",
       "0  08 Sep 2020    0        44  Unresolved      0.0      3932330       3926253   \n",
       "1  08 Sep 2020    0         1  Unresolved      0.0      3932330           119   \n",
       "2  08 Sep 2020    0        55  Unresolved      0.0      3932330            96   \n",
       "3  08 Sep 2020    0        92  Unresolved      0.0      3932330           111   \n",
       "4  06 Sep 2020    0        44  Unresolved      0.0      3839002       3834328   \n",
       "\n",
       "  Fill Rate  Impressions Render Rate  1st Clicks  2nd Clicks  \n",
       "0     99.9%      3849749       98.1%       10199           0  \n",
       "1     99.9%          118       99.2%           2           2  \n",
       "2     99.9%           93       96.9%           2           2  \n",
       "3     99.9%          110       99.1%           2           2  \n",
       "4     99.9%      3785127       98.7%        9492           0  "
      ]
     },
     "execution_count": 110,
     "metadata": {},
     "output_type": "execute_result"
    }
   ],
   "source": [
    "data.head()"
   ]
  },
  {
   "cell_type": "code",
   "execution_count": 87,
   "id": "4bc2d8c8-2a49-4eb0-bf25-ce44dcdab607",
   "metadata": {},
   "outputs": [
    {
     "data": {
      "text/plain": [
       "<AxesSubplot:xlabel='Ad Group', ylabel='App'>"
      ]
     },
     "execution_count": 87,
     "metadata": {},
     "output_type": "execute_result"
    },
    {
     "data": {
      "image/png": "[encoded data removed]",
      "text/plain": [
       "<Figure size 1080x576 with 1 Axes>"
      ]
     },
     "metadata": {
      "needs_background": "light"
     },
     "output_type": "display_data"
    }
   ],
   "source": [
    "plt.figure(figsize=(15,8))\n",
    "sb.barplot(x=data['Ad Group'],y=data['App'],data=data)"
   ]
  },
  {
   "cell_type": "markdown",
   "id": "f4e48c89-7ebc-4ba0-bea2-992e85fb9afb",
   "metadata": {},
   "source": [
    "As we are able to see that ad groups of label 30 to 40 causing an oppurtunity loss for the App and we can also find  that labels by putting them in  a dictionary form and can Mark them."
   ]
  },
  {
   "cell_type": "code",
   "execution_count": 111,
   "id": "075b55f5-94df-4769-89d0-3779050b1adc",
   "metadata": {},
   "outputs": [
    {
     "data": {
      "text/plain": [
       "<AxesSubplot:>"
      ]
     },
     "execution_count": 111,
     "metadata": {},
     "output_type": "execute_result"
    },
    {
     "data": {
      "image/png": "[encoded data removed]",
      "text/plain": [
       "<Figure size 1080x576 with 2 Axes>"
      ]
     },
     "metadata": {
      "needs_background": "light"
     },
     "output_type": "display_data"
    }
   ],
   "source": [
    "plt.figure(figsize=(15,8))\n",
    "sb.heatmap(data.corr(),linecolor=\"white\",annot = True, cmap = 'viridis')"
   ]
  },
  {
   "cell_type": "code",
   "execution_count": 112,
   "id": "0cea5042-79d9-4cb8-8c4e-076d8fed35ac",
   "metadata": {},
   "outputs": [
    {
     "data": {
      "text/plain": [
       "<seaborn.matrix.ClusterGrid at 0x1fcc2069df0>"
      ]
     },
     "execution_count": 112,
     "metadata": {},
     "output_type": "execute_result"
    },
    {
     "data": {
      "image/png": "[encoded data removed]",
      "text/plain": [
       "<Figure size 720x720 with 4 Axes>"
      ]
     },
     "metadata": {
      "needs_background": "light"
     },
     "output_type": "display_data"
    }
   ],
   "source": [
    "sb.clustermap(data.corr(), annot=True,cmap='viridis')"
   ]
  },
  {
   "cell_type": "code",
   "execution_count": null,
   "id": "9738637d-4e70-40e2-9526-f21b54813af6",
   "metadata": {},
   "outputs": [],
   "source": []
  }
 ],
 "metadata": {
  "kernelspec": {
   "display_name": "Python 3 (ipykernel)",
   "language": "python",
   "name": "python3"
  },
  "language_info": {
   "codemirror_mode": {
    "name": "ipython",
    "version": 3
   },
   "file_extension": ".py",
   "mimetype": "text/x-python",
   "name": "python",
   "nbconvert_exporter": "python",
   "pygments_lexer": "ipython3",
   "version": "3.9.7"
  }
 },
 "nbformat": 4,
 "nbformat_minor": 5
}
